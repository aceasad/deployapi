{
 "cells": [
  {
   "cell_type": "code",
   "execution_count": 56,
   "metadata": {},
   "outputs": [],
   "source": [
    "import pandas as pd\n",
    "import json\n",
    "import numpy as np\n",
    "import os\n",
    "from pathlib import Path"
   ]
  },
  {
   "cell_type": "code",
   "execution_count": 13,
   "metadata": {},
   "outputs": [
    {
     "name": "stdout",
     "output_type": "stream",
     "text": [
      "Training started successfully.\n",
      "{'message': 'Model trained and saved successfully.'}\n"
     ]
    }
   ],
   "source": [
    "import json\n",
    "import requests\n",
    "\n",
    "def train_model_with_json(json_file_path, url):\n",
    "    \"\"\"\n",
    "    Sends a JSON file to the specified training endpoint URL.\n",
    "\n",
    "    :param json_file_path: Path to the JSON file to be sent for training.\n",
    "    :param url: URL of the training endpoint.\n",
    "    \"\"\"\n",
    "    # Load JSON data from the file\n",
    "    with open(json_file_path, 'r') as file:\n",
    "        data = json.load(file)\n",
    "    \n",
    "    # Send the data to the training endpoint\n",
    "    response = requests.post(url, json=data)\n",
    "    \n",
    "    if response.status_code == 200:\n",
    "        print(\"Training started successfully.\")\n",
    "        print(response.json())\n",
    "    else:\n",
    "        print(f\"Failed to start training. Status code: {response.status_code}\")\n",
    "        print(response.text)\n",
    "\n",
    "# Replace 'localhost:5000' with your Flask app's address and port\n",
    "TRAIN_URL = 'http://localhost:5000/train'\n",
    "\n",
    "# Path to your JSON file\n",
    "JSON_FILE_PATH = 'data-old/replay_summaries.json'\n",
    "\n",
    "train_model_with_json(JSON_FILE_PATH, TRAIN_URL)\n"
   ]
  },
  {
   "cell_type": "code",
   "execution_count": 16,
   "metadata": {},
   "outputs": [],
   "source": [
    "TRAIN_URL = 'http://localhost:5000/update_model'\n",
    "response = requests.get(TRAIN_URL)"
   ]
  },
  {
   "cell_type": "code",
   "execution_count": null,
   "metadata": {},
   "outputs": [],
   "source": []
  },
  {
   "cell_type": "code",
   "execution_count": 63,
   "metadata": {},
   "outputs": [],
   "source": [
    "df = pd.read_json('data/replay_summaries.json')"
   ]
  },
  {
   "cell_type": "code",
   "execution_count": 211,
   "metadata": {},
   "outputs": [],
   "source": [
    "import sc2reader\n"
   ]
  },
  {
   "cell_type": "code",
   "execution_count": 253,
   "metadata": {},
   "outputs": [],
   "source": [
    "replay = sc2reader.load_replay('replay_data/8fde74f1c54421fa2b059c9740142c9c.SC2Replay', load_map=True)\n",
    "\n",
    "# replay = sc2reader.load_replay('replay_data/8fde74f1c54421fa2b059c9740142c9c.SC2Replay', load_level=3)"
   ]
  },
  {
   "cell_type": "code",
   "execution_count": 254,
   "metadata": {},
   "outputs": [
    {
     "data": {
      "text/plain": [
       "[PurifierMineralField [1],\n",
       " UnbuildableBricksDestructible [40001],\n",
       " MineralField [80001],\n",
       " PurifierMineralField [C0001],\n",
       " VespeneGeyser [100001],\n",
       " ProtossVespeneGeyser [140001],\n",
       " PurifierMineralField [180001],\n",
       " PurifierMineralField [1C0001],\n",
       " MineralField [200001],\n",
       " MineralField [240001],\n",
       " PurifierMineralField750 [280001],\n",
       " PurifierMineralField [2C0001],\n",
       " ProtossVespeneGeyser [300001],\n",
       " PurifierMineralField750 [340001],\n",
       " PurifierMineralField750 [380001],\n",
       " PurifierMineralField750 [3C0001],\n",
       " PurifierMineralField750 [400001],\n",
       " MineralField [440001],\n",
       " MineralField750 [480001],\n",
       " PurifierMineralField [4C0001],\n",
       " PurifierMineralField [500001],\n",
       " PurifierMineralField750 [540001],\n",
       " PurifierMineralField [580001],\n",
       " MineralField750 [5C0001],\n",
       " PurifierMineralField750 [600001],\n",
       " PurifierMineralField [640001],\n",
       " PurifierMineralField750 [680001],\n",
       " PurifierMineralField750 [6C0001],\n",
       " PurifierMineralField750 [700001],\n",
       " PurifierMineralField [740001],\n",
       " MineralField750 [780001],\n",
       " ProtossVespeneGeyser [7C0001],\n",
       " PurifierMineralField [800001],\n",
       " ProtossVespeneGeyser [840001],\n",
       " VespeneGeyser [880001],\n",
       " PurifierMineralField [8C0001],\n",
       " PurifierMineralField750 [900001],\n",
       " DestructibleRockEx1DiagonalHugeULBR [940001],\n",
       " MineralField750 [980001],\n",
       " PurifierMineralField750 [9C0001],\n",
       " MineralField [A00001],\n",
       " PurifierMineralField [A40001],\n",
       " PurifierMineralField [A80001],\n",
       " MineralField [AC0001],\n",
       " PurifierMineralField [B00001],\n",
       " MineralField [B40001],\n",
       " MineralField750 [B80001],\n",
       " ProtossVespeneGeyser [BC0001],\n",
       " ProtossVespeneGeyser [C00001],\n",
       " ProtossVespeneGeyser [C40001],\n",
       " ProtossVespeneGeyser [C80001],\n",
       " ProtossVespeneGeyser [CC0001],\n",
       " PurifierMineralField750 [D00001],\n",
       " DestructibleRockEx16x6 [D40001],\n",
       " PurifierMineralField [D80001],\n",
       " PurifierMineralField [DC0001],\n",
       " MineralField750 [E00001],\n",
       " ProtossVespeneGeyser [E40001],\n",
       " MineralField750 [E80001],\n",
       " ProtossVespeneGeyser [EC0001],\n",
       " PurifierMineralField [F00001],\n",
       " PurifierMineralField750 [F40001],\n",
       " ProtossVespeneGeyser [F80001],\n",
       " PurifierMineralField750 [FC0001],\n",
       " PurifierMineralField750 [1000001],\n",
       " MineralField [1040001],\n",
       " PurifierMineralField [1080001],\n",
       " MineralField [10C0001],\n",
       " PurifierMineralField750 [1100001],\n",
       " MineralField750 [1140001],\n",
       " MineralField750 [1180001],\n",
       " PurifierMineralField [11C0001],\n",
       " VespeneGeyser [1200001],\n",
       " PurifierMineralField750 [1240001],\n",
       " MineralField750 [1280001],\n",
       " PurifierMineralField750 [12C0001],\n",
       " PurifierMineralField750 [1300001],\n",
       " ProtossVespeneGeyser [1340001],\n",
       " MineralField [1380001],\n",
       " PurifierMineralField [13C0001],\n",
       " ProtossVespeneGeyser [1400001],\n",
       " VespeneGeyser [1440001],\n",
       " PurifierMineralField750 [1480001],\n",
       " PurifierMineralField [14C0001],\n",
       " PurifierMineralField750 [1500001],\n",
       " PurifierMineralField750 [1540001],\n",
       " PurifierMineralField750 [1580001],\n",
       " PurifierMineralField750 [15C0001],\n",
       " ProtossVespeneGeyser [1600001],\n",
       " MineralField [1640001],\n",
       " ProtossVespeneGeyser [1680001],\n",
       " PurifierMineralField [16C0001],\n",
       " MineralField750 [1700001],\n",
       " VespeneGeyser [1740001],\n",
       " PurifierMineralField750 [1780001],\n",
       " PurifierMineralField [17C0001],\n",
       " PurifierMineralField750 [1800001],\n",
       " PurifierMineralField750 [1840001],\n",
       " MineralField750 [1880001],\n",
       " PurifierMineralField750 [18C0001],\n",
       " MineralField750 [1900001],\n",
       " PurifierMineralField750 [1940001],\n",
       " ProtossVespeneGeyser [1980001],\n",
       " ProtossVespeneGeyser [19C0001],\n",
       " ProtossVespeneGeyser [1A00001],\n",
       " PurifierMineralField750 [1A40001],\n",
       " PurifierMineralField [1A80001],\n",
       " MineralField [1AC0001],\n",
       " PurifierMineralField750 [1B00001],\n",
       " PurifierMineralField [1B40001],\n",
       " PurifierMineralField750 [1B80001],\n",
       " PurifierMineralField [1BC0001],\n",
       " MineralField750 [1C00001],\n",
       " DestructibleRockEx16x6 [1C40001],\n",
       " VespeneGeyser [1C80001],\n",
       " PurifierMineralField [1CC0001],\n",
       " PurifierMineralField750 [1D00001],\n",
       " MineralField [1D40001],\n",
       " PurifierMineralField750 [1D80001],\n",
       " ProtossVespeneGeyser [1DC0001],\n",
       " MineralField750 [1E00001],\n",
       " PurifierMineralField [1E40001],\n",
       " DestructibleRockEx1DiagonalHugeULBR [1E80001],\n",
       " PurifierMineralField750 [1EC0001],\n",
       " PurifierMineralField [1F00001],\n",
       " MineralField [1F40001],\n",
       " PurifierMineralField [1F80001],\n",
       " PurifierMineralField [1FC0001],\n",
       " PurifierMineralField [2000001],\n",
       " PurifierMineralField [2040001],\n",
       " PurifierMineralField [2080001],\n",
       " MineralField [20C0001],\n",
       " MineralField750 [2100001],\n",
       " PurifierMineralField750 [2140001],\n",
       " VespeneGeyser [2180001],\n",
       " PurifierMineralField [21C0001],\n",
       " PurifierMineralField750 [2200001],\n",
       " PurifierMineralField [2240001],\n",
       " VespeneGeyser [2280001],\n",
       " PurifierMineralField [22C0001],\n",
       " UnbuildableBricksDestructible [2300001],\n",
       " MineralField [2340001],\n",
       " PurifierMineralField750 [2380001],\n",
       " PurifierMineralField [23C0001],\n",
       " PurifierMineralField [2400001],\n",
       " PurifierMineralField750 [2440001],\n",
       " BeaconArmy [2480001],\n",
       " BeaconDefend [24C0001],\n",
       " BeaconAttack [2500001],\n",
       " BeaconHarass [2540001],\n",
       " BeaconIdle [2580001],\n",
       " BeaconAuto [25C0001],\n",
       " BeaconDetect [2600001],\n",
       " BeaconScout [2640001],\n",
       " BeaconClaim [2680001],\n",
       " BeaconExpand [26C0001],\n",
       " BeaconRally [2700001],\n",
       " BeaconCustom1 [2740001],\n",
       " BeaconCustom2 [2780001],\n",
       " BeaconCustom3 [27C0001],\n",
       " BeaconCustom4 [2800001],\n",
       " BeaconArmy [2840001],\n",
       " BeaconDefend [2880001],\n",
       " BeaconAttack [28C0001],\n",
       " BeaconHarass [2900001],\n",
       " BeaconIdle [2940001],\n",
       " BeaconAuto [2980001],\n",
       " BeaconDetect [29C0001],\n",
       " BeaconScout [2A00001],\n",
       " BeaconClaim [2A40001],\n",
       " BeaconExpand [2A80001],\n",
       " BeaconRally [2AC0001],\n",
       " BeaconCustom1 [2B00001],\n",
       " BeaconCustom2 [2B40001],\n",
       " BeaconCustom3 [2B80001],\n",
       " BeaconCustom4 [2BC0001],\n",
       " OrbitalCommand [2C00001],\n",
       " SCV [2F00001],\n",
       " OrbitalCommand [2F40001],\n",
       " SCV [2F80001],\n",
       " SCV [2FC0001],\n",
       " SCV [3040001],\n",
       " SCV [30C0001],\n",
       " SCV [3140001],\n",
       " SCV [3180001],\n",
       " SCV [3200001],\n",
       " SCV [32C0001],\n",
       " SupplyDepotLowered [3300001],\n",
       " SupplyDepotLowered [3340001],\n",
       " SCV [33C0001],\n",
       " Barracks [3440001],\n",
       " Barracks [3480001],\n",
       " Refinery [34C0001],\n",
       " Refinery [3500001],\n",
       " Refinery [3580001],\n",
       " SCV [3640001],\n",
       " SupplyDepotLowered [3740001],\n",
       " Refinery [3780001],\n",
       " Factory [37C0001],\n",
       " SupplyDepotLowered [38C0001],\n",
       " SCV [3980001],\n",
       " OrbitalCommand [3A40001],\n",
       " Factory [3600002],\n",
       " SCV [3700002],\n",
       " SCV [3B00002],\n",
       " SCV [3AC0006],\n",
       " SCV [2D80003],\n",
       " BarracksReactor [2D40003],\n",
       " StarportTechLab [3B40003],\n",
       " SCV [2DC0005],\n",
       " Starport [3100003],\n",
       " SupplyDepot [3C80003],\n",
       " Starport [3D40002],\n",
       " SupplyDepot [3E00001],\n",
       " SCV [3E80001],\n",
       " SCV [3F40001],\n",
       " SCV [4000001],\n",
       " SupplyDepot [4040001],\n",
       " SCV [4100001],\n",
       " FactoryTechLab [4140001],\n",
       " Refinery [41C0001],\n",
       " SCV [4200001],\n",
       " SupplyDepot [4240001],\n",
       " SCV [4280001],\n",
       " SCV [4380001],\n",
       " SCV [4400001],\n",
       " OrbitalCommand [44C0001],\n",
       " SupplyDepot [4540001],\n",
       " Raven [3380002],\n",
       " SCV [3840004],\n",
       " SCV [3D00003],\n",
       " SCV [2EC0002],\n",
       " StarportTechLab [3900004],\n",
       " SCV [4640005],\n",
       " SCV [4500002],\n",
       " SCV [3240009],\n",
       " SCV [2CC0004],\n",
       " FactoryTechLab [3F80004],\n",
       " SCV [2E40004],\n",
       " Refinery [4600004],\n",
       " Marine [3FC0007],\n",
       " SCV [3DC0004],\n",
       " Raven [3C40006],\n",
       " SCV [3EC0003],\n",
       " SCV [40C0004],\n",
       " SCV [4080003],\n",
       " Raven [43C0004],\n",
       " SCV [42C0003],\n",
       " SCV [3C00005],\n",
       " Marine [3E40006],\n",
       " SCV [4580004],\n",
       " SCV [2E00004],\n",
       " SCV [4680002],\n",
       " SCV [4840001],\n",
       " SCV [3540003],\n",
       " SCV [4900002],\n",
       " Marine [4780005],\n",
       " Marine [3F0000A],\n",
       " CommandCenter [3940006],\n",
       " SCV [4300009],\n",
       " Raven [3CC000A],\n",
       " SCV [49C0001],\n",
       " SupplyDepot [4A00001],\n",
       " SCV [4B40001],\n",
       " SCV [3680003],\n",
       " Marine [2D00004],\n",
       " SCV [4C40002],\n",
       " SCV [4C80002],\n",
       " BarracksReactor [4D40001],\n",
       " Raven [4E00001],\n",
       " SCV [4E40001],\n",
       " SCV [4F00001],\n",
       " EngineeringBay [35C0002],\n",
       " Marine [4F40001],\n",
       " EngineeringBay [4F80001],\n",
       " Marine [4FC0001],\n",
       " Barracks [50C0002],\n",
       " Barracks [5140002],\n",
       " SiegeTankSieged [5200001],\n",
       " SCV [2E80003],\n",
       " SCV [3080003],\n",
       " SCV [3880007],\n",
       " CommandCenter [51C0004],\n",
       " Marine [4700007],\n",
       " Marine [510000B],\n",
       " Raven [4A40006],\n",
       " SCV [31C0002],\n",
       " SCV [46C0005],\n",
       " Barracks [4180003],\n",
       " SiegeTank [4D80006],\n",
       " SCV [3400003],\n",
       " SCV [4880002],\n",
       " SCV [4BC0004],\n",
       " SCV [2C80003],\n",
       " Marine [47C0004],\n",
       " Marine [48C0005],\n",
       " SCV [2C40007],\n",
       " SCV [36C0003],\n",
       " SCV [4D00002],\n",
       " SCV [4CC0002],\n",
       " SCV [4B80003],\n",
       " SCV [4E80002]]"
      ]
     },
     "execution_count": 254,
     "metadata": {},
     "output_type": "execute_result"
    }
   ],
   "source": [
    "(list(replay.active_units.values()))"
   ]
  },
  {
   "cell_type": "code",
   "execution_count": 261,
   "metadata": {},
   "outputs": [],
   "source": [
    "for tracker in replay.tracker_events:\n",
    "    break"
   ]
  },
  {
   "cell_type": "code",
   "execution_count": 308,
   "metadata": {},
   "outputs": [
    {
     "data": {
      "text/plain": [
       "{'Barracks',\n",
       " 'BarracksReactor',\n",
       " 'BeaconArmy',\n",
       " 'BeaconAttack',\n",
       " 'BeaconAuto',\n",
       " 'BeaconClaim',\n",
       " 'BeaconCustom1',\n",
       " 'BeaconCustom2',\n",
       " 'BeaconCustom3',\n",
       " 'BeaconCustom4',\n",
       " 'BeaconDefend',\n",
       " 'BeaconDetect',\n",
       " 'BeaconExpand',\n",
       " 'BeaconHarass',\n",
       " 'BeaconIdle',\n",
       " 'BeaconRally',\n",
       " 'BeaconScout',\n",
       " 'CommandCenter',\n",
       " 'DestructibleRockEx16x6',\n",
       " 'DestructibleRockEx1DiagonalHugeULBR',\n",
       " 'EngineeringBay',\n",
       " 'Factory',\n",
       " 'FactoryTechLab',\n",
       " 'Marine',\n",
       " 'MineralField',\n",
       " 'MineralField750',\n",
       " 'OrbitalCommand',\n",
       " 'ProtossVespeneGeyser',\n",
       " 'PurifierMineralField',\n",
       " 'PurifierMineralField750',\n",
       " 'Raven',\n",
       " 'Refinery',\n",
       " 'SCV',\n",
       " 'SiegeTank',\n",
       " 'SiegeTankSieged',\n",
       " 'Starport',\n",
       " 'StarportTechLab',\n",
       " 'SupplyDepot',\n",
       " 'SupplyDepotLowered',\n",
       " 'UnbuildableBricksDestructible',\n",
       " 'VespeneGeyser'}"
      ]
     },
     "execution_count": 308,
     "metadata": {},
     "output_type": "execute_result"
    }
   ],
   "source": [
    "set([str(value).split(' [')[0] for value in list(replay.active_units.values())])"
   ]
  },
  {
   "cell_type": "code",
   "execution_count": 302,
   "metadata": {},
   "outputs": [
    {
     "data": {
      "text/plain": [
       "'PurifierMineralField [1]'"
      ]
     },
     "execution_count": 302,
     "metadata": {},
     "output_type": "execute_result"
    }
   ],
   "source": [
    "str(list(replay.active_units.values())[0])"
   ]
  },
  {
   "cell_type": "code",
   "execution_count": 275,
   "metadata": {},
   "outputs": [
    {
     "data": {
      "text/plain": [
       "dict_keys(['Participant Role', 'Controller', 'Race', 'AI Build', 'Player Logo Index', 'Team', 'Tandem Leader Slot', 'Commander Mastery Talent', 'Color', 'Teams6v6', 'AI Build (Protoss)', 'Teams3v3', 'Commander Is Trial', 'AI Build (Terran)', 'Brutal Plus Is Retry', 'Teams2v2', 'AI Build (Zerg)', 'Commander Mastery Level', 'Difficulty', 'Teams7v7', 'Commander Prestige Level', 'Ready', 'Random Commander', 'Unknown', 'Teams5v5', 'Handicap', 'Commander', 'TeamsFFA', 'Teams1v1', 'Commander Level', 'Teams4v4', 'Observer Type', 'Commander Mastery Tier', 'Using Custom Observer UI', 'Brutal Plus Level'])"
      ]
     },
     "execution_count": 275,
     "metadata": {},
     "output_type": "execute_result"
    }
   ],
   "source": [
    "replay.attributes[2].keys()"
   ]
  },
  {
   "cell_type": "code",
   "execution_count": 281,
   "metadata": {},
   "outputs": [
    {
     "data": {
      "text/plain": [
       "dict_keys([])"
      ]
     },
     "execution_count": 281,
     "metadata": {},
     "output_type": "execute_result"
    }
   ],
   "source": [
    "replay.attributes[3].keys()"
   ]
  },
  {
   "cell_type": "code",
   "execution_count": 64,
   "metadata": {},
   "outputs": [],
   "source": [
    "import s2protocol"
   ]
  },
  {
   "cell_type": "code",
   "execution_count": 199,
   "metadata": {},
   "outputs": [],
   "source": [
    "import mpyq\n",
    "archive = mpyq.MPQArchive('replay_data/8fde74f1c54421fa2b059c9740142c9c.SC2Replay')\n",
    "contents = archive.header['user_data_header']['content']"
   ]
  },
  {
   "cell_type": "code",
   "execution_count": 200,
   "metadata": {},
   "outputs": [],
   "source": [
    "from s2protocol import versions\n",
    "header = versions.latest().decode_replay_header(contents)"
   ]
  },
  {
   "cell_type": "code",
   "execution_count": null,
   "metadata": {},
   "outputs": [],
   "source": []
  },
  {
   "cell_type": "code",
   "execution_count": 88,
   "metadata": {},
   "outputs": [
    {
     "data": {
      "text/plain": [
       "'\\x00\\x00\\x00\\x00\\x00\\x00\\x00\\x00\\x00\\x00\\x00\\x00\\x00\\x00\\x00\\x00'"
      ]
     },
     "execution_count": 88,
     "metadata": {},
     "output_type": "execute_result"
    }
   ],
   "source": [
    "header['m_replayCompatibilityHash']['m_data'].decode()"
   ]
  },
  {
   "cell_type": "code",
   "execution_count": 53,
   "metadata": {},
   "outputs": [],
   "source": [
    "all_unit_1 = [] \n",
    "for unit in df['player_1_units']:\n",
    "    all_unit_1.extend(unit)"
   ]
  },
  {
   "cell_type": "code",
   "execution_count": 58,
   "metadata": {},
   "outputs": [
    {
     "data": {
      "text/plain": [
       "0                 \n",
       "Larva                 191419\n",
       "Zergling              125132\n",
       "Drone                  73384\n",
       "Probe                  61363\n",
       "SCV                    56124\n",
       "                       ...  \n",
       "Mothership                36\n",
       "HellionTank               33\n",
       "ChangelingZergling        19\n",
       "Archon                    17\n",
       "TL_GlobalCaster            2\n",
       "Name: count, Length: 71, dtype: int64"
      ]
     },
     "execution_count": 58,
     "metadata": {},
     "output_type": "execute_result"
    }
   ],
   "source": [
    "pd.DataFrame(all_unit_1).value_counts()"
   ]
  },
  {
   "cell_type": "code",
   "execution_count": 59,
   "metadata": {},
   "outputs": [],
   "source": [
    "all_unit_2 = [] \n",
    "for unit in df['player_2_units']:\n",
    "    all_unit_2.extend(unit)"
   ]
  },
  {
   "cell_type": "code",
   "execution_count": 60,
   "metadata": {},
   "outputs": [
    {
     "data": {
      "text/plain": [
       "0                 \n",
       "Probe                 48753\n",
       "Drone                 47449\n",
       "SCV                   39622\n",
       "Zergling              19568\n",
       "Marine                16137\n",
       "                      ...  \n",
       "HellionTank               3\n",
       "KD8Charge                 3\n",
       "LocustMPPrecursor         2\n",
       "ParasiticBombDummy        1\n",
       "Archon                    1\n",
       "Name: count, Length: 69, dtype: int64"
      ]
     },
     "execution_count": 60,
     "metadata": {},
     "output_type": "execute_result"
    }
   ],
   "source": [
    "pd.DataFrame(all_unit_2).value_counts()"
   ]
  },
  {
   "cell_type": "code",
   "execution_count": 62,
   "metadata": {},
   "outputs": [
    {
     "data": {
      "text/plain": [
       "0                 \n",
       "Larva                 204444\n",
       "Zergling              144700\n",
       "Drone                 120833\n",
       "Probe                 110116\n",
       "SCV                    95746\n",
       "                       ...  \n",
       "OracleStasisTrap          38\n",
       "HellionTank               36\n",
       "ChangelingZergling        27\n",
       "Archon                    18\n",
       "TL_GlobalCaster            2\n",
       "Name: count, Length: 71, dtype: int64"
      ]
     },
     "execution_count": 62,
     "metadata": {},
     "output_type": "execute_result"
    }
   ],
   "source": [
    "pd.DataFrame(all_unit_1+all_unit_2).value_counts()"
   ]
  },
  {
   "cell_type": "code",
   "execution_count": 49,
   "metadata": {},
   "outputs": [],
   "source": [
    "df.to_csv('data/replay_summaries.csv', index=False)"
   ]
  },
  {
   "cell_type": "code",
   "execution_count": 23,
   "metadata": {},
   "outputs": [
    {
     "data": {
      "text/plain": [
       "build\n",
       "78285    795\n",
       "84643    791\n",
       "83830    444\n",
       "82457    297\n",
       "82893    197\n",
       "Name: count, dtype: int64"
      ]
     },
     "execution_count": 23,
     "metadata": {},
     "output_type": "execute_result"
    }
   ],
   "source": [
    "df['build'].value_counts()"
   ]
  },
  {
   "cell_type": "code",
   "execution_count": 16,
   "metadata": {},
   "outputs": [
    {
     "data": {
      "text/plain": [
       "{'Adept',\n",
       " 'ChangelingZealot',\n",
       " 'Colossus',\n",
       " 'Disruptor',\n",
       " 'Immortal',\n",
       " 'Nexus',\n",
       " 'Observer',\n",
       " 'Oracle',\n",
       " 'Probe',\n",
       " 'VoidRay',\n",
       " 'WarpPrism'}"
      ]
     },
     "execution_count": 16,
     "metadata": {},
     "output_type": "execute_result"
    }
   ],
   "source": [
    "len(df.iloc[0].player_1_units)\n",
    "set(df.iloc[0].player_1_units)"
   ]
  },
  {
   "cell_type": "code",
   "execution_count": 18,
   "metadata": {},
   "outputs": [
    {
     "data": {
      "text/plain": [
       "0       1344\n",
       "1       1344\n",
       "2       1344\n",
       "3       1344\n",
       "4       1344\n",
       "        ... \n",
       "2519    1344\n",
       "2520    1344\n",
       "2521    1344\n",
       "2522    1344\n",
       "2523    1344\n",
       "Length: 2524, dtype: int64"
      ]
     },
     "execution_count": 18,
     "metadata": {},
     "output_type": "execute_result"
    }
   ],
   "source": [
    "df['total_gameloops'] - df['gameloop']"
   ]
  },
  {
   "cell_type": "code",
   "execution_count": 17,
   "metadata": {},
   "outputs": [
    {
     "data": {
      "text/plain": [
       "{'Drone',\n",
       " 'Hatchery',\n",
       " 'Hydralisk',\n",
       " 'Larva',\n",
       " 'Overlord',\n",
       " 'Queen',\n",
       " 'Roach',\n",
       " 'Viper',\n",
       " 'Zergling'}"
      ]
     },
     "execution_count": 17,
     "metadata": {},
     "output_type": "execute_result"
    }
   ],
   "source": [
    "len(df.iloc[0].player_2_units)\n",
    "set(df.iloc[0].player_2_units)"
   ]
  },
  {
   "cell_type": "code",
   "execution_count": 36,
   "metadata": {},
   "outputs": [],
   "source": [
    "player_counts = pd.DataFrame(df['player_1'].value_counts()).reset_index()\n"
   ]
  },
  {
   "cell_type": "code",
   "execution_count": 45,
   "metadata": {},
   "outputs": [
    {
     "data": {
      "text/html": [
       "<div>\n",
       "<style scoped>\n",
       "    .dataframe tbody tr th:only-of-type {\n",
       "        vertical-align: middle;\n",
       "    }\n",
       "\n",
       "    .dataframe tbody tr th {\n",
       "        vertical-align: top;\n",
       "    }\n",
       "\n",
       "    .dataframe thead th {\n",
       "        text-align: right;\n",
       "    }\n",
       "</style>\n",
       "<table border=\"1\" class=\"dataframe\">\n",
       "  <thead>\n",
       "    <tr style=\"text-align: right;\">\n",
       "      <th></th>\n",
       "      <th>player_2</th>\n",
       "      <th>count</th>\n",
       "    </tr>\n",
       "  </thead>\n",
       "  <tbody>\n",
       "    <tr>\n",
       "      <th>0</th>\n",
       "      <td>ShoWTimE</td>\n",
       "      <td>78</td>\n",
       "    </tr>\n",
       "    <tr>\n",
       "      <th>1</th>\n",
       "      <td>INnoVation</td>\n",
       "      <td>67</td>\n",
       "    </tr>\n",
       "    <tr>\n",
       "      <th>2</th>\n",
       "      <td>Reynor</td>\n",
       "      <td>65</td>\n",
       "    </tr>\n",
       "    <tr>\n",
       "      <th>3</th>\n",
       "      <td>&amp;lt;mouz&amp;gt;&lt;sp/&gt;HeroMarine</td>\n",
       "      <td>52</td>\n",
       "    </tr>\n",
       "    <tr>\n",
       "      <th>4</th>\n",
       "      <td>Stats</td>\n",
       "      <td>51</td>\n",
       "    </tr>\n",
       "    <tr>\n",
       "      <th>...</th>\n",
       "      <td>...</td>\n",
       "      <td>...</td>\n",
       "    </tr>\n",
       "    <tr>\n",
       "      <th>223</th>\n",
       "      <td>&amp;lt;ArGGEU&amp;gt;&lt;sp/&gt;Kelazhur</td>\n",
       "      <td>1</td>\n",
       "    </tr>\n",
       "    <tr>\n",
       "      <th>224</th>\n",
       "      <td>&amp;lt;ArGNA&amp;gt;&lt;sp/&gt;Kelazhur</td>\n",
       "      <td>1</td>\n",
       "    </tr>\n",
       "    <tr>\n",
       "      <th>225</th>\n",
       "      <td>&amp;lt;RYE&amp;gt;&lt;sp/&gt;BlyOnFire</td>\n",
       "      <td>1</td>\n",
       "    </tr>\n",
       "    <tr>\n",
       "      <th>226</th>\n",
       "      <td>&amp;lt;Blacer&amp;gt;&lt;sp/&gt;Geralt</td>\n",
       "      <td>1</td>\n",
       "    </tr>\n",
       "    <tr>\n",
       "      <th>227</th>\n",
       "      <td>Polt</td>\n",
       "      <td>1</td>\n",
       "    </tr>\n",
       "  </tbody>\n",
       "</table>\n",
       "<p>228 rows × 2 columns</p>\n",
       "</div>"
      ],
      "text/plain": [
       "                        player_2  count\n",
       "0                       ShoWTimE     78\n",
       "1                     INnoVation     67\n",
       "2                         Reynor     65\n",
       "3    &lt;mouz&gt;<sp/>HeroMarine     52\n",
       "4                          Stats     51\n",
       "..                           ...    ...\n",
       "223  &lt;ArGGEU&gt;<sp/>Kelazhur      1\n",
       "224   &lt;ArGNA&gt;<sp/>Kelazhur      1\n",
       "225    &lt;RYE&gt;<sp/>BlyOnFire      1\n",
       "226    &lt;Blacer&gt;<sp/>Geralt      1\n",
       "227                         Polt      1\n",
       "\n",
       "[228 rows x 2 columns]"
      ]
     },
     "execution_count": 45,
     "metadata": {},
     "output_type": "execute_result"
    }
   ],
   "source": [
    "pd.DataFrame(df['player_2'].value_counts()).reset_index()"
   ]
  },
  {
   "cell_type": "code",
   "execution_count": 46,
   "metadata": {},
   "outputs": [
    {
     "data": {
      "text/html": [
       "<div>\n",
       "<style scoped>\n",
       "    .dataframe tbody tr th:only-of-type {\n",
       "        vertical-align: middle;\n",
       "    }\n",
       "\n",
       "    .dataframe tbody tr th {\n",
       "        vertical-align: top;\n",
       "    }\n",
       "\n",
       "    .dataframe thead th {\n",
       "        text-align: right;\n",
       "    }\n",
       "</style>\n",
       "<table border=\"1\" class=\"dataframe\">\n",
       "  <thead>\n",
       "    <tr style=\"text-align: right;\">\n",
       "      <th></th>\n",
       "      <th>player_1</th>\n",
       "      <th>count</th>\n",
       "    </tr>\n",
       "  </thead>\n",
       "  <tbody>\n",
       "    <tr>\n",
       "      <th>0</th>\n",
       "      <td>Reynor</td>\n",
       "      <td>74</td>\n",
       "    </tr>\n",
       "    <tr>\n",
       "      <th>1</th>\n",
       "      <td>ShoWTimE</td>\n",
       "      <td>59</td>\n",
       "    </tr>\n",
       "    <tr>\n",
       "      <th>2</th>\n",
       "      <td>&amp;lt;mouz&amp;gt;&lt;sp/&gt;HeroMarine</td>\n",
       "      <td>56</td>\n",
       "    </tr>\n",
       "    <tr>\n",
       "      <th>3</th>\n",
       "      <td>INnoVation</td>\n",
       "      <td>56</td>\n",
       "    </tr>\n",
       "    <tr>\n",
       "      <th>4</th>\n",
       "      <td>Serral</td>\n",
       "      <td>52</td>\n",
       "    </tr>\n",
       "    <tr>\n",
       "      <th>...</th>\n",
       "      <td>...</td>\n",
       "      <td>...</td>\n",
       "    </tr>\n",
       "    <tr>\n",
       "      <th>229</th>\n",
       "      <td>Super</td>\n",
       "      <td>1</td>\n",
       "    </tr>\n",
       "    <tr>\n",
       "      <th>230</th>\n",
       "      <td>&amp;lt;IxGeu&amp;gt;&lt;sp/&gt;Denver</td>\n",
       "      <td>1</td>\n",
       "    </tr>\n",
       "    <tr>\n",
       "      <th>231</th>\n",
       "      <td>PappiJoe</td>\n",
       "      <td>1</td>\n",
       "    </tr>\n",
       "    <tr>\n",
       "      <th>232</th>\n",
       "      <td>&amp;lt;BLaDe&amp;gt;&lt;sp/&gt;小坚强</td>\n",
       "      <td>1</td>\n",
       "    </tr>\n",
       "    <tr>\n",
       "      <th>233</th>\n",
       "      <td>&amp;lt;Ahoy&amp;gt;&lt;sp/&gt;Mysteryman</td>\n",
       "      <td>1</td>\n",
       "    </tr>\n",
       "  </tbody>\n",
       "</table>\n",
       "<p>234 rows × 2 columns</p>\n",
       "</div>"
      ],
      "text/plain": [
       "                        player_1  count\n",
       "0                         Reynor     74\n",
       "1                       ShoWTimE     59\n",
       "2    &lt;mouz&gt;<sp/>HeroMarine     56\n",
       "3                     INnoVation     56\n",
       "4                         Serral     52\n",
       "..                           ...    ...\n",
       "229                        Super      1\n",
       "230     &lt;IxGeu&gt;<sp/>Denver      1\n",
       "231                     PappiJoe      1\n",
       "232        &lt;BLaDe&gt;<sp/>小坚强      1\n",
       "233  &lt;Ahoy&gt;<sp/>Mysteryman      1\n",
       "\n",
       "[234 rows x 2 columns]"
      ]
     },
     "execution_count": 46,
     "metadata": {},
     "output_type": "execute_result"
    }
   ],
   "source": [
    "player_counts"
   ]
  },
  {
   "cell_type": "code",
   "execution_count": 39,
   "metadata": {},
   "outputs": [
    {
     "data": {
      "text/plain": [
       "0      False\n",
       "1      False\n",
       "2      False\n",
       "3      False\n",
       "4      False\n",
       "       ...  \n",
       "229    False\n",
       "230    False\n",
       "231    False\n",
       "232    False\n",
       "233    False\n",
       "Name: player_1, Length: 234, dtype: bool"
      ]
     },
     "execution_count": 39,
     "metadata": {},
     "output_type": "execute_result"
    }
   ],
   "source": [
    "player_counts['player_1'].str.contains('Pacomike')"
   ]
  },
  {
   "cell_type": "code",
   "execution_count": 44,
   "metadata": {},
   "outputs": [
    {
     "data": {
      "text/html": [
       "<div>\n",
       "<style scoped>\n",
       "    .dataframe tbody tr th:only-of-type {\n",
       "        vertical-align: middle;\n",
       "    }\n",
       "\n",
       "    .dataframe tbody tr th {\n",
       "        vertical-align: top;\n",
       "    }\n",
       "\n",
       "    .dataframe thead th {\n",
       "        text-align: right;\n",
       "    }\n",
       "</style>\n",
       "<table border=\"1\" class=\"dataframe\">\n",
       "  <thead>\n",
       "    <tr style=\"text-align: right;\">\n",
       "      <th></th>\n",
       "      <th>player_1</th>\n",
       "      <th>count</th>\n",
       "    </tr>\n",
       "  </thead>\n",
       "  <tbody>\n",
       "    <tr>\n",
       "      <th>213</th>\n",
       "      <td>&amp;lt;DLG&amp;gt;&lt;sp/&gt;SortOf</td>\n",
       "      <td>1</td>\n",
       "    </tr>\n",
       "    <tr>\n",
       "      <th>214</th>\n",
       "      <td>Bistork</td>\n",
       "      <td>1</td>\n",
       "    </tr>\n",
       "    <tr>\n",
       "      <th>215</th>\n",
       "      <td>&amp;lt;AFSC2&amp;gt;&lt;sp/&gt;Trap</td>\n",
       "      <td>1</td>\n",
       "    </tr>\n",
       "    <tr>\n",
       "      <th>216</th>\n",
       "      <td>&amp;lt;트수Crew&amp;gt;&lt;sp/&gt;DPGDark</td>\n",
       "      <td>1</td>\n",
       "    </tr>\n",
       "    <tr>\n",
       "      <th>217</th>\n",
       "      <td>SortOf</td>\n",
       "      <td>1</td>\n",
       "    </tr>\n",
       "    <tr>\n",
       "      <th>218</th>\n",
       "      <td>&amp;lt;INTSTY&amp;gt;&lt;sp/&gt;oOMeomaikAOo</td>\n",
       "      <td>1</td>\n",
       "    </tr>\n",
       "    <tr>\n",
       "      <th>219</th>\n",
       "      <td>&amp;lt;IxG&amp;gt;&lt;sp/&gt;Future</td>\n",
       "      <td>1</td>\n",
       "    </tr>\n",
       "    <tr>\n",
       "      <th>220</th>\n",
       "      <td>&amp;lt;Wardi&amp;gt;&lt;sp/&gt;Wardi</td>\n",
       "      <td>1</td>\n",
       "    </tr>\n",
       "    <tr>\n",
       "      <th>221</th>\n",
       "      <td>&amp;lt;iGSCII&amp;gt;&lt;sp/&gt;iGMacSed</td>\n",
       "      <td>1</td>\n",
       "    </tr>\n",
       "    <tr>\n",
       "      <th>222</th>\n",
       "      <td>&amp;lt;αX&amp;gt;&lt;sp/&gt;Pacomike</td>\n",
       "      <td>1</td>\n",
       "    </tr>\n",
       "    <tr>\n",
       "      <th>223</th>\n",
       "      <td>GunGFuBanDa</td>\n",
       "      <td>1</td>\n",
       "    </tr>\n",
       "    <tr>\n",
       "      <th>224</th>\n",
       "      <td>&amp;lt;Blacer&amp;gt;&lt;sp/&gt;Geralt</td>\n",
       "      <td>1</td>\n",
       "    </tr>\n",
       "    <tr>\n",
       "      <th>225</th>\n",
       "      <td>&amp;lt;TKAP&amp;gt;&lt;sp/&gt;Denver</td>\n",
       "      <td>1</td>\n",
       "    </tr>\n",
       "    <tr>\n",
       "      <th>226</th>\n",
       "      <td>RazerBlader</td>\n",
       "      <td>1</td>\n",
       "    </tr>\n",
       "    <tr>\n",
       "      <th>227</th>\n",
       "      <td>&amp;lt;αX&amp;gt;&lt;sp/&gt;RAGNAROK</td>\n",
       "      <td>1</td>\n",
       "    </tr>\n",
       "    <tr>\n",
       "      <th>228</th>\n",
       "      <td>Mysteryman</td>\n",
       "      <td>1</td>\n",
       "    </tr>\n",
       "    <tr>\n",
       "      <th>229</th>\n",
       "      <td>Super</td>\n",
       "      <td>1</td>\n",
       "    </tr>\n",
       "    <tr>\n",
       "      <th>230</th>\n",
       "      <td>&amp;lt;IxGeu&amp;gt;&lt;sp/&gt;Denver</td>\n",
       "      <td>1</td>\n",
       "    </tr>\n",
       "    <tr>\n",
       "      <th>231</th>\n",
       "      <td>PappiJoe</td>\n",
       "      <td>1</td>\n",
       "    </tr>\n",
       "    <tr>\n",
       "      <th>232</th>\n",
       "      <td>&amp;lt;BLaDe&amp;gt;&lt;sp/&gt;小坚强</td>\n",
       "      <td>1</td>\n",
       "    </tr>\n",
       "    <tr>\n",
       "      <th>233</th>\n",
       "      <td>&amp;lt;Ahoy&amp;gt;&lt;sp/&gt;Mysteryman</td>\n",
       "      <td>1</td>\n",
       "    </tr>\n",
       "  </tbody>\n",
       "</table>\n",
       "</div>"
      ],
      "text/plain": [
       "                            player_1  count\n",
       "213           &lt;DLG&gt;<sp/>SortOf      1\n",
       "214                          Bistork      1\n",
       "215           &lt;AFSC2&gt;<sp/>Trap      1\n",
       "216       &lt;트수Crew&gt;<sp/>DPGDark      1\n",
       "217                           SortOf      1\n",
       "218  &lt;INTSTY&gt;<sp/>oOMeomaikAOo      1\n",
       "219           &lt;IxG&gt;<sp/>Future      1\n",
       "220          &lt;Wardi&gt;<sp/>Wardi      1\n",
       "221      &lt;iGSCII&gt;<sp/>iGMacSed      1\n",
       "222          &lt;αX&gt;<sp/>Pacomike      1\n",
       "223                      GunGFuBanDa      1\n",
       "224        &lt;Blacer&gt;<sp/>Geralt      1\n",
       "225          &lt;TKAP&gt;<sp/>Denver      1\n",
       "226                      RazerBlader      1\n",
       "227          &lt;αX&gt;<sp/>RAGNAROK      1\n",
       "228                       Mysteryman      1\n",
       "229                            Super      1\n",
       "230         &lt;IxGeu&gt;<sp/>Denver      1\n",
       "231                         PappiJoe      1\n",
       "232            &lt;BLaDe&gt;<sp/>小坚强      1\n",
       "233      &lt;Ahoy&gt;<sp/>Mysteryman      1"
      ]
     },
     "execution_count": 44,
     "metadata": {},
     "output_type": "execute_result"
    }
   ],
   "source": [
    "player_counts[(player_counts['count'] == 1) | (player_counts['player_1'].str.contains('Pacomike'))]"
   ]
  },
  {
   "cell_type": "code",
   "execution_count": 1,
   "metadata": {},
   "outputs": [],
   "source": [
    "import pandas as pd\n",
    "from ast import literal_eval\n",
    "from collections import Counter\n",
    "from sklearn.model_selection import train_test_split\n",
    "\n",
    "from sklearn.preprocessing import OneHotEncoder, StandardScaler\n",
    "from sklearn.linear_model import LogisticRegression\n",
    "import pandas as pd\n",
    "from sklearn.feature_extraction import FeatureHasher\n",
    "from sklearn.metrics import classification_report\n"
   ]
  },
  {
   "cell_type": "code",
   "execution_count": 6,
   "metadata": {},
   "outputs": [],
   "source": [
    "def load_and_preprocess_data(json_data):\n",
    "    data = pd.read_json(json_data)\n",
    "    data.dropna(inplace=True)\n",
    "    data['winner'] = data['winner'].astype(int)\n",
    "    data['player_1'] = data['player_1'].str.replace('&lt;', '<').str.replace('&gt;', '>').str.replace('<sp/>', '')\n",
    "    data['player_2'] = data['player_2'].str.replace('&lt;', '<').str.replace('&gt;', '>').str.replace('<sp/>', '')\n",
    "    return data\n",
    "\n",
    "def get_column_types(data):\n",
    "    numeric_cols = data.select_dtypes(include=['float64', 'int64']).columns.tolist()\n",
    "    object_cols = data.select_dtypes(include='object').columns.tolist()\n",
    "    return numeric_cols, object_cols\n",
    "\n",
    "def parse_and_count_units(unit_str):\n",
    "    unit_counts = Counter(unit_str)\n",
    "    return unit_counts\n",
    "\n",
    "\n",
    "\n",
    "def feature_engineering(df_cleaned):\n",
    "\n",
    "    # Apply the function to both player_1_units and player_2_units columns\n",
    "    player_1_units_counts = df_cleaned['player_1_units'].apply(parse_and_count_units)\n",
    "    player_2_units_counts = df_cleaned['player_2_units'].apply(parse_and_count_units)\n",
    "\n",
    "    # Combine all unit counts to identify all unique units in the dataset\n",
    "    all_unit_counts = pd.concat([player_1_units_counts, player_2_units_counts])\n",
    "    all_unique_units = set(unit for counts in all_unit_counts for unit in counts)\n",
    "\n",
    "    player_1_cols = [f'player_1_{unit}' for unit in all_unique_units]\n",
    "    player_2_cols = [f'player_2_{unit}' for unit in all_unique_units]\n",
    "    new_cols_df = pd.DataFrame(0, index=df_cleaned.index, columns=player_1_cols + player_2_cols)\n",
    "    df_cleaned = pd.concat([df_cleaned, new_cols_df], axis=1)\n",
    "\n",
    "    # Populate the unit count columns for each player\n",
    "    for index, row in df_cleaned.iterrows():\n",
    "        for unit, count in player_1_units_counts.loc[index].items():\n",
    "            df_cleaned.at[index, f'player_1_{unit}'] = count\n",
    "        for unit, count in player_2_units_counts.loc[index].items():\n",
    "            df_cleaned.at[index, f'player_2_{unit}'] = count\n",
    "\n",
    "    # One-hot encode the 'map' variable\n",
    "    ohe = OneHotEncoder(sparse_output=False)\n",
    "    map_encoded = ohe.fit_transform(df_cleaned[['map']])\n",
    "    map_encoded_df = pd.DataFrame(map_encoded, columns=ohe.get_feature_names_out(['map']), index=df_cleaned.index)\n",
    "\n",
    "    # Drop the original 'map' column and concatenate the one-hot encoded map columns\n",
    "    df_cleaned = pd.concat([df_cleaned.drop('map', axis=1), map_encoded_df], axis=1)\n",
    "\n",
    "    # Scaling numerical features (excluding 'winner', 'build', and any string columns)\n",
    "    numerical_cols = [col for col in df_cleaned.columns if df_cleaned[col].dtype in ['int64', 'float64'] and col not in ['winner', 'build']]\n",
    "    scaler = StandardScaler()\n",
    "    df_cleaned[numerical_cols] = scaler.fit_transform(df_cleaned[numerical_cols])\n",
    "\n",
    "    # Feature hashing for 'player_1' and 'player_2' columns\n",
    "    combined_players_list = df_cleaned[['player_1', 'player_2']].values.tolist()\n",
    "    fh = FeatureHasher(n_features=10, input_type='string')\n",
    "    hashed_features = fh.transform(combined_players_list).toarray()\n",
    "    hashed_features_df = pd.DataFrame(hashed_features, columns=[f'player_hash_{i}' for i in range(10)], index=df_cleaned.index)\n",
    "    df_cleaned_final = pd.concat([df_cleaned.drop(['player_1', 'player_2'], axis=1), hashed_features_df], axis=1)\n",
    "    \n",
    "    \n",
    "    unit_columns = [col for col in df_cleaned_final.columns if 'player_1_' in col and col.replace('player_1_', 'player_2_') in df_cleaned_final.columns and col != 'player_1_units']\n",
    "    for unit_col in unit_columns:\n",
    "        \n",
    "        player_2_col = unit_col.replace('player_1_', 'player_2_')\n",
    "        differential_col = unit_col.replace('player_1_', 'diff_')\n",
    "        df_cleaned_final[differential_col] = df_cleaned_final[unit_col] - df_cleaned_final[player_2_col]\n",
    "    return df_cleaned_final\n",
    "\n",
    "\n",
    "def train_model(X_train, y_train):\n",
    "    lr = LogisticRegression(max_iter=1000)\n",
    "    lr.fit(X_train, y_train)\n",
    "    return lr\n",
    "\n",
    "def evaluate_model(model, X_test, y_test):\n",
    "    predictions = model.predict(X_test)\n",
    "    print(\"Evaluation Report:\\n\", classification_report(y_test, predictions))\n"
   ]
  },
  {
   "cell_type": "code",
   "execution_count": 4,
   "metadata": {},
   "outputs": [],
   "source": [
    "json_data = pd.read_json('data-old/replay_summaries.json')\n"
   ]
  },
  {
   "cell_type": "code",
   "execution_count": 7,
   "metadata": {},
   "outputs": [],
   "source": [
    "df = load_and_preprocess_data('data-old/replay_summaries.json')\n",
    "df = feature_engineering(df)"
   ]
  },
  {
   "cell_type": "code",
   "execution_count": null,
   "metadata": {},
   "outputs": [],
   "source": []
  },
  {
   "cell_type": "code",
   "execution_count": 309,
   "metadata": {},
   "outputs": [],
   "source": [
    "df['season'] = df['path'].str.split('\\\\').str[0]"
   ]
  },
  {
   "cell_type": "code",
   "execution_count": null,
   "metadata": {},
   "outputs": [],
   "source": []
  },
  {
   "cell_type": "code",
   "execution_count": 209,
   "metadata": {},
   "outputs": [
    {
     "data": {
      "text/plain": [
       "season\n",
       "DH SC2 Masters 2021 Summer                 791\n",
       "IEM Katowice 2020                          438\n",
       "IEM Katowice 2021                          261\n",
       "DH SC2 Masters 2020 Winter                 190\n",
       "StayAtHome Story Cup #3                    183\n",
       "TeamLiquid StarLeague 5                    183\n",
       "StayAtHome Story Cup #1                    172\n",
       "TeamLiquid StarLeague 6                    121\n",
       "ASUS ROG Online 2020                       107\n",
       "Cheeseadelphia Winter Championship 2021     72\n",
       "Name: count, dtype: int64"
      ]
     },
     "execution_count": 209,
     "metadata": {},
     "output_type": "execute_result"
    }
   ],
   "source": [
    "df['season'].value_counts()"
   ]
  },
  {
   "cell_type": "code",
   "execution_count": 198,
   "metadata": {},
   "outputs": [
    {
     "data": {
      "text/plain": [
       "'ASUS ROG Online 2020\\\\ASUS_ROG_Online_2020_replays\\\\1 - Group Stage\\\\Group A\\\\20-11-27 14_31_15 - [Ex0n]MaxPax vs Rogue - Romanticide LE.SC2Replay'"
      ]
     },
     "execution_count": 198,
     "metadata": {},
     "output_type": "execute_result"
    }
   ],
   "source": [
    "df['path'][0]"
   ]
  },
  {
   "cell_type": "code",
   "execution_count": 338,
   "metadata": {},
   "outputs": [],
   "source": [
    "X = df.drop(['path', 'winner', 'map', 'player_1_units', 'player_2_units'], axis=1)\n",
    "y = df['winner'] - 1  # Adjusting target to 0-based\n",
    "\n",
    "X_train, X_test, y_train, y_test = train_test_split(X, y, test_size=0.2, random_state=42)\n"
   ]
  },
  {
   "cell_type": "code",
   "execution_count": 339,
   "metadata": {},
   "outputs": [
    {
     "data": {
      "text/html": [
       "<style>#sk-container-id-8 {color: black;background-color: white;}#sk-container-id-8 pre{padding: 0;}#sk-container-id-8 div.sk-toggleable {background-color: white;}#sk-container-id-8 label.sk-toggleable__label {cursor: pointer;display: block;width: 100%;margin-bottom: 0;padding: 0.3em;box-sizing: border-box;text-align: center;}#sk-container-id-8 label.sk-toggleable__label-arrow:before {content: \"▸\";float: left;margin-right: 0.25em;color: #696969;}#sk-container-id-8 label.sk-toggleable__label-arrow:hover:before {color: black;}#sk-container-id-8 div.sk-estimator:hover label.sk-toggleable__label-arrow:before {color: black;}#sk-container-id-8 div.sk-toggleable__content {max-height: 0;max-width: 0;overflow: hidden;text-align: left;background-color: #f0f8ff;}#sk-container-id-8 div.sk-toggleable__content pre {margin: 0.2em;color: black;border-radius: 0.25em;background-color: #f0f8ff;}#sk-container-id-8 input.sk-toggleable__control:checked~div.sk-toggleable__content {max-height: 200px;max-width: 100%;overflow: auto;}#sk-container-id-8 input.sk-toggleable__control:checked~label.sk-toggleable__label-arrow:before {content: \"▾\";}#sk-container-id-8 div.sk-estimator input.sk-toggleable__control:checked~label.sk-toggleable__label {background-color: #d4ebff;}#sk-container-id-8 div.sk-label input.sk-toggleable__control:checked~label.sk-toggleable__label {background-color: #d4ebff;}#sk-container-id-8 input.sk-hidden--visually {border: 0;clip: rect(1px 1px 1px 1px);clip: rect(1px, 1px, 1px, 1px);height: 1px;margin: -1px;overflow: hidden;padding: 0;position: absolute;width: 1px;}#sk-container-id-8 div.sk-estimator {font-family: monospace;background-color: #f0f8ff;border: 1px dotted black;border-radius: 0.25em;box-sizing: border-box;margin-bottom: 0.5em;}#sk-container-id-8 div.sk-estimator:hover {background-color: #d4ebff;}#sk-container-id-8 div.sk-parallel-item::after {content: \"\";width: 100%;border-bottom: 1px solid gray;flex-grow: 1;}#sk-container-id-8 div.sk-label:hover label.sk-toggleable__label {background-color: #d4ebff;}#sk-container-id-8 div.sk-serial::before {content: \"\";position: absolute;border-left: 1px solid gray;box-sizing: border-box;top: 0;bottom: 0;left: 50%;z-index: 0;}#sk-container-id-8 div.sk-serial {display: flex;flex-direction: column;align-items: center;background-color: white;padding-right: 0.2em;padding-left: 0.2em;position: relative;}#sk-container-id-8 div.sk-item {position: relative;z-index: 1;}#sk-container-id-8 div.sk-parallel {display: flex;align-items: stretch;justify-content: center;background-color: white;position: relative;}#sk-container-id-8 div.sk-item::before, #sk-container-id-8 div.sk-parallel-item::before {content: \"\";position: absolute;border-left: 1px solid gray;box-sizing: border-box;top: 0;bottom: 0;left: 50%;z-index: -1;}#sk-container-id-8 div.sk-parallel-item {display: flex;flex-direction: column;z-index: 1;position: relative;background-color: white;}#sk-container-id-8 div.sk-parallel-item:first-child::after {align-self: flex-end;width: 50%;}#sk-container-id-8 div.sk-parallel-item:last-child::after {align-self: flex-start;width: 50%;}#sk-container-id-8 div.sk-parallel-item:only-child::after {width: 0;}#sk-container-id-8 div.sk-dashed-wrapped {border: 1px dashed gray;margin: 0 0.4em 0.5em 0.4em;box-sizing: border-box;padding-bottom: 0.4em;background-color: white;}#sk-container-id-8 div.sk-label label {font-family: monospace;font-weight: bold;display: inline-block;line-height: 1.2em;}#sk-container-id-8 div.sk-label-container {text-align: center;}#sk-container-id-8 div.sk-container {/* jupyter's `normalize.less` sets `[hidden] { display: none; }` but bootstrap.min.css set `[hidden] { display: none !important; }` so we also need the `!important` here to be able to override the default hidden behavior on the sphinx rendered scikit-learn.org. See: https://github.com/scikit-learn/scikit-learn/issues/21755 */display: inline-block !important;position: relative;}#sk-container-id-8 div.sk-text-repr-fallback {display: none;}</style><div id=\"sk-container-id-8\" class=\"sk-top-container\"><div class=\"sk-text-repr-fallback\"><pre>XGBClassifier(base_score=None, booster=None, callbacks=None,\n",
       "              colsample_bylevel=None, colsample_bynode=None,\n",
       "              colsample_bytree=None, device=None, early_stopping_rounds=None,\n",
       "              enable_categorical=False, eval_metric=&#x27;logloss&#x27;,\n",
       "              feature_types=None, gamma=None, grow_policy=None,\n",
       "              importance_type=None, interaction_constraints=None,\n",
       "              learning_rate=None, max_bin=None, max_cat_threshold=None,\n",
       "              max_cat_to_onehot=None, max_delta_step=None, max_depth=None,\n",
       "              max_leaves=None, min_child_weight=None, missing=nan,\n",
       "              monotone_constraints=None, multi_strategy=None, n_estimators=None,\n",
       "              n_jobs=None, num_parallel_tree=None, random_state=None, ...)</pre><b>In a Jupyter environment, please rerun this cell to show the HTML representation or trust the notebook. <br />On GitHub, the HTML representation is unable to render, please try loading this page with nbviewer.org.</b></div><div class=\"sk-container\" hidden><div class=\"sk-item\"><div class=\"sk-estimator sk-toggleable\"><input class=\"sk-toggleable__control sk-hidden--visually\" id=\"sk-estimator-id-8\" type=\"checkbox\" checked><label for=\"sk-estimator-id-8\" class=\"sk-toggleable__label sk-toggleable__label-arrow\">XGBClassifier</label><div class=\"sk-toggleable__content\"><pre>XGBClassifier(base_score=None, booster=None, callbacks=None,\n",
       "              colsample_bylevel=None, colsample_bynode=None,\n",
       "              colsample_bytree=None, device=None, early_stopping_rounds=None,\n",
       "              enable_categorical=False, eval_metric=&#x27;logloss&#x27;,\n",
       "              feature_types=None, gamma=None, grow_policy=None,\n",
       "              importance_type=None, interaction_constraints=None,\n",
       "              learning_rate=None, max_bin=None, max_cat_threshold=None,\n",
       "              max_cat_to_onehot=None, max_delta_step=None, max_depth=None,\n",
       "              max_leaves=None, min_child_weight=None, missing=nan,\n",
       "              monotone_constraints=None, multi_strategy=None, n_estimators=None,\n",
       "              n_jobs=None, num_parallel_tree=None, random_state=None, ...)</pre></div></div></div></div></div>"
      ],
      "text/plain": [
       "XGBClassifier(base_score=None, booster=None, callbacks=None,\n",
       "              colsample_bylevel=None, colsample_bynode=None,\n",
       "              colsample_bytree=None, device=None, early_stopping_rounds=None,\n",
       "              enable_categorical=False, eval_metric='logloss',\n",
       "              feature_types=None, gamma=None, grow_policy=None,\n",
       "              importance_type=None, interaction_constraints=None,\n",
       "              learning_rate=None, max_bin=None, max_cat_threshold=None,\n",
       "              max_cat_to_onehot=None, max_delta_step=None, max_depth=None,\n",
       "              max_leaves=None, min_child_weight=None, missing=nan,\n",
       "              monotone_constraints=None, multi_strategy=None, n_estimators=None,\n",
       "              n_jobs=None, num_parallel_tree=None, random_state=None, ...)"
      ]
     },
     "execution_count": 339,
     "metadata": {},
     "output_type": "execute_result"
    }
   ],
   "source": [
    "\n",
    "# Initialize the models\n",
    "lr = LogisticRegression(max_iter=1000)\n",
    "rf = RandomForestClassifier(n_estimators=100)\n",
    "xgb = XGBClassifier(use_label_encoder=False, eval_metric='logloss')\n",
    "\n",
    "# Train the models\n",
    "lr.fit(X_train, y_train)\n",
    "rf.fit(X_train, y_train)\n",
    "xgb.fit(X_train, y_train)\n"
   ]
  },
  {
   "cell_type": "code",
   "execution_count": 340,
   "metadata": {},
   "outputs": [
    {
     "name": "stdout",
     "output_type": "stream",
     "text": [
      "Logistic Regression:\n",
      "               precision    recall  f1-score   support\n",
      "\n",
      "           0       0.00      0.00      0.00       240\n",
      "           1       0.52      1.00      0.69       264\n",
      "\n",
      "    accuracy                           0.52       504\n",
      "   macro avg       0.26      0.50      0.34       504\n",
      "weighted avg       0.27      0.52      0.36       504\n",
      "\n",
      "Random Forest:\n",
      "               precision    recall  f1-score   support\n",
      "\n",
      "           0       0.67      0.63      0.65       240\n",
      "           1       0.68      0.72      0.70       264\n",
      "\n",
      "    accuracy                           0.68       504\n",
      "   macro avg       0.68      0.68      0.68       504\n",
      "weighted avg       0.68      0.68      0.68       504\n",
      "\n",
      "XGBoost:\n",
      "               precision    recall  f1-score   support\n",
      "\n",
      "           0       0.66      0.64      0.65       240\n",
      "           1       0.68      0.69      0.69       264\n",
      "\n",
      "    accuracy                           0.67       504\n",
      "   macro avg       0.67      0.67      0.67       504\n",
      "weighted avg       0.67      0.67      0.67       504\n",
      "\n"
     ]
    },
    {
     "name": "stderr",
     "output_type": "stream",
     "text": [
      "C:\\Users\\Zeerak\\AppData\\Roaming\\Python\\Python310\\site-packages\\sklearn\\metrics\\_classification.py:1344: UndefinedMetricWarning: Precision and F-score are ill-defined and being set to 0.0 in labels with no predicted samples. Use `zero_division` parameter to control this behavior.\n",
      "  _warn_prf(average, modifier, msg_start, len(result))\n",
      "C:\\Users\\Zeerak\\AppData\\Roaming\\Python\\Python310\\site-packages\\sklearn\\metrics\\_classification.py:1344: UndefinedMetricWarning: Precision and F-score are ill-defined and being set to 0.0 in labels with no predicted samples. Use `zero_division` parameter to control this behavior.\n",
      "  _warn_prf(average, modifier, msg_start, len(result))\n",
      "C:\\Users\\Zeerak\\AppData\\Roaming\\Python\\Python310\\site-packages\\sklearn\\metrics\\_classification.py:1344: UndefinedMetricWarning: Precision and F-score are ill-defined and being set to 0.0 in labels with no predicted samples. Use `zero_division` parameter to control this behavior.\n",
      "  _warn_prf(average, modifier, msg_start, len(result))\n"
     ]
    }
   ],
   "source": [
    "\n",
    "# Predictions\n",
    "lr_predictions = lr.predict(X_test)\n",
    "rf_predictions = rf.predict(X_test)\n",
    "xgb_predictions = xgb.predict(X_test)\n",
    "\n",
    "# Evaluation\n",
    "print(\"Logistic Regression:\\n\", classification_report(y_test, lr_predictions))\n",
    "print(\"Random Forest:\\n\", classification_report(y_test, rf_predictions))\n",
    "print(\"XGBoost:\\n\", classification_report(y_test, xgb_predictions))\n"
   ]
  },
  {
   "cell_type": "code",
   "execution_count": null,
   "metadata": {},
   "outputs": [],
   "source": []
  },
  {
   "cell_type": "code",
   "execution_count": 93,
   "metadata": {},
   "outputs": [
    {
     "data": {
      "text/html": [
       "<div>\n",
       "<style scoped>\n",
       "    .dataframe tbody tr th:only-of-type {\n",
       "        vertical-align: middle;\n",
       "    }\n",
       "\n",
       "    .dataframe tbody tr th {\n",
       "        vertical-align: top;\n",
       "    }\n",
       "\n",
       "    .dataframe thead th {\n",
       "        text-align: right;\n",
       "    }\n",
       "</style>\n",
       "<table border=\"1\" class=\"dataframe\">\n",
       "  <thead>\n",
       "    <tr style=\"text-align: right;\">\n",
       "      <th></th>\n",
       "      <th>path</th>\n",
       "      <th>map</th>\n",
       "      <th>player_1</th>\n",
       "      <th>player_2</th>\n",
       "      <th>player_1_units</th>\n",
       "      <th>player_2_units</th>\n",
       "    </tr>\n",
       "  </thead>\n",
       "  <tbody>\n",
       "    <tr>\n",
       "      <th>count</th>\n",
       "      <td>2524</td>\n",
       "      <td>2524</td>\n",
       "      <td>2524</td>\n",
       "      <td>2524</td>\n",
       "      <td>2524</td>\n",
       "      <td>2524</td>\n",
       "    </tr>\n",
       "    <tr>\n",
       "      <th>unique</th>\n",
       "      <td>2524</td>\n",
       "      <td>62</td>\n",
       "      <td>234</td>\n",
       "      <td>228</td>\n",
       "      <td>2514</td>\n",
       "      <td>2508</td>\n",
       "    </tr>\n",
       "    <tr>\n",
       "      <th>top</th>\n",
       "      <td>ASUS ROG Online 2020\\ASUS_ROG_Online_2020_repl...</td>\n",
       "      <td>Romanticide LE</td>\n",
       "      <td>Reynor</td>\n",
       "      <td>ShoWTimE</td>\n",
       "      <td>[Nexus, Probe, Probe, Probe, Probe, Probe, Pro...</td>\n",
       "      <td>[Nexus, Probe, Probe, Probe, Probe, Probe, Pro...</td>\n",
       "    </tr>\n",
       "    <tr>\n",
       "      <th>freq</th>\n",
       "      <td>1</td>\n",
       "      <td>286</td>\n",
       "      <td>74</td>\n",
       "      <td>78</td>\n",
       "      <td>2</td>\n",
       "      <td>3</td>\n",
       "    </tr>\n",
       "  </tbody>\n",
       "</table>\n",
       "</div>"
      ],
      "text/plain": [
       "                                                     path             map  \\\n",
       "count                                                2524            2524   \n",
       "unique                                               2524              62   \n",
       "top     ASUS ROG Online 2020\\ASUS_ROG_Online_2020_repl...  Romanticide LE   \n",
       "freq                                                    1             286   \n",
       "\n",
       "       player_1  player_2                                     player_1_units  \\\n",
       "count      2524      2524                                               2524   \n",
       "unique      234       228                                               2514   \n",
       "top      Reynor  ShoWTimE  [Nexus, Probe, Probe, Probe, Probe, Probe, Pro...   \n",
       "freq         74        78                                                  2   \n",
       "\n",
       "                                           player_2_units  \n",
       "count                                                2524  \n",
       "unique                                               2508  \n",
       "top     [Nexus, Probe, Probe, Probe, Probe, Probe, Pro...  \n",
       "freq                                                    3  "
      ]
     },
     "execution_count": 93,
     "metadata": {},
     "output_type": "execute_result"
    }
   ],
   "source": [
    "from flask import Flask, request, jsonify\n",
    "app = Flask(__name__)\n",
    "\n",
    "# Assuming the model is trained and saved as 'model.pkl'\n",
    "# with open('model.pkl', 'rb') as file:\n",
    "#     model = pickle.load(file)\n",
    "\n",
    "@app.route('/predict', methods=['POST'])\n",
    "def predict():\n",
    "    json_data = request.json\n",
    "    data = load_and_preprocess_data(json_data)  # Use the preprocessing function\n",
    "    # Perform feature engineering, scaling, etc.\n",
    "    # Assume transformed_data is what you get after preprocessing and feature engineering\n",
    "    prediction = model.predict(transformed_data)\n",
    "    return jsonify({'prediction': prediction.tolist()})\n",
    "\n",
    "if __name__ == '__main__':\n",
    "    app.run(debug=True)\n"
   ]
  },
  {
   "cell_type": "code",
   "execution_count": 94,
   "metadata": {},
   "outputs": [
    {
     "data": {
      "text/html": [
       "<div>\n",
       "<style scoped>\n",
       "    .dataframe tbody tr th:only-of-type {\n",
       "        vertical-align: middle;\n",
       "    }\n",
       "\n",
       "    .dataframe tbody tr th {\n",
       "        vertical-align: top;\n",
       "    }\n",
       "\n",
       "    .dataframe thead th {\n",
       "        text-align: right;\n",
       "    }\n",
       "</style>\n",
       "<table border=\"1\" class=\"dataframe\">\n",
       "  <thead>\n",
       "    <tr style=\"text-align: right;\">\n",
       "      <th></th>\n",
       "      <th>total_gameloops</th>\n",
       "      <th>gameloop</th>\n",
       "      <th>build</th>\n",
       "      <th>winner</th>\n",
       "    </tr>\n",
       "  </thead>\n",
       "  <tbody>\n",
       "    <tr>\n",
       "      <th>count</th>\n",
       "      <td>2524.0</td>\n",
       "      <td>2524.0</td>\n",
       "      <td>2524.0</td>\n",
       "      <td>2518.0</td>\n",
       "    </tr>\n",
       "    <tr>\n",
       "      <th>mean</th>\n",
       "      <td>16346.0</td>\n",
       "      <td>15003.0</td>\n",
       "      <td>82104.0</td>\n",
       "      <td>2.0</td>\n",
       "    </tr>\n",
       "    <tr>\n",
       "      <th>std</th>\n",
       "      <td>7641.0</td>\n",
       "      <td>7639.0</td>\n",
       "      <td>2684.0</td>\n",
       "      <td>1.0</td>\n",
       "    </tr>\n",
       "    <tr>\n",
       "      <th>min</th>\n",
       "      <td>12.0</td>\n",
       "      <td>0.0</td>\n",
       "      <td>78285.0</td>\n",
       "      <td>1.0</td>\n",
       "    </tr>\n",
       "    <tr>\n",
       "      <th>25%</th>\n",
       "      <td>11585.0</td>\n",
       "      <td>10241.0</td>\n",
       "      <td>78285.0</td>\n",
       "      <td>1.0</td>\n",
       "    </tr>\n",
       "    <tr>\n",
       "      <th>50%</th>\n",
       "      <td>14974.0</td>\n",
       "      <td>13630.0</td>\n",
       "      <td>82893.0</td>\n",
       "      <td>2.0</td>\n",
       "    </tr>\n",
       "    <tr>\n",
       "      <th>75%</th>\n",
       "      <td>19368.0</td>\n",
       "      <td>18024.0</td>\n",
       "      <td>84643.0</td>\n",
       "      <td>2.0</td>\n",
       "    </tr>\n",
       "    <tr>\n",
       "      <th>max</th>\n",
       "      <td>92369.0</td>\n",
       "      <td>91025.0</td>\n",
       "      <td>84643.0</td>\n",
       "      <td>2.0</td>\n",
       "    </tr>\n",
       "  </tbody>\n",
       "</table>\n",
       "</div>"
      ],
      "text/plain": [
       "       total_gameloops  gameloop    build  winner\n",
       "count           2524.0    2524.0   2524.0  2518.0\n",
       "mean           16346.0   15003.0  82104.0     2.0\n",
       "std             7641.0    7639.0   2684.0     1.0\n",
       "min               12.0       0.0  78285.0     1.0\n",
       "25%            11585.0   10241.0  78285.0     1.0\n",
       "50%            14974.0   13630.0  82893.0     2.0\n",
       "75%            19368.0   18024.0  84643.0     2.0\n",
       "max            92369.0   91025.0  84643.0     2.0"
      ]
     },
     "execution_count": 94,
     "metadata": {},
     "output_type": "execute_result"
    }
   ],
   "source": [
    "data.describe().round()"
   ]
  },
  {
   "cell_type": "code",
   "execution_count": 185,
   "metadata": {},
   "outputs": [
    {
     "data": {
      "text/html": [
       "<div>\n",
       "<style scoped>\n",
       "    .dataframe tbody tr th:only-of-type {\n",
       "        vertical-align: middle;\n",
       "    }\n",
       "\n",
       "    .dataframe tbody tr th {\n",
       "        vertical-align: top;\n",
       "    }\n",
       "\n",
       "    .dataframe thead th {\n",
       "        text-align: right;\n",
       "    }\n",
       "</style>\n",
       "<table border=\"1\" class=\"dataframe\">\n",
       "  <thead>\n",
       "    <tr style=\"text-align: right;\">\n",
       "      <th></th>\n",
       "      <th>path</th>\n",
       "      <th>total_gameloops</th>\n",
       "      <th>gameloop</th>\n",
       "      <th>build</th>\n",
       "      <th>winner</th>\n",
       "      <th>map</th>\n",
       "      <th>player_1</th>\n",
       "      <th>player_2</th>\n",
       "      <th>player_1_units</th>\n",
       "      <th>player_2_units</th>\n",
       "    </tr>\n",
       "  </thead>\n",
       "  <tbody>\n",
       "    <tr>\n",
       "      <th>0</th>\n",
       "      <td>ASUS ROG Online 2020\\ASUS_ROG_Online_2020_repl...</td>\n",
       "      <td>24725</td>\n",
       "      <td>23381</td>\n",
       "      <td>82457</td>\n",
       "      <td>2.0</td>\n",
       "      <td>Romanticide LE</td>\n",
       "      <td>&amp;lt;Ex0n&amp;gt;&lt;sp/&gt;MaxPax</td>\n",
       "      <td>Rogue</td>\n",
       "      <td>[Nexus, Probe, Probe, Probe, Probe, Probe, Pro...</td>\n",
       "      <td>[Hatchery, Drone, Drone, Drone, Drone, Drone, ...</td>\n",
       "    </tr>\n",
       "    <tr>\n",
       "      <th>1</th>\n",
       "      <td>ASUS ROG Online 2020\\ASUS_ROG_Online_2020_repl...</td>\n",
       "      <td>18078</td>\n",
       "      <td>16734</td>\n",
       "      <td>82457</td>\n",
       "      <td>2.0</td>\n",
       "      <td>Oxide LE</td>\n",
       "      <td>&amp;lt;Ex0n&amp;gt;&lt;sp/&gt;MaxPax</td>\n",
       "      <td>Rogue</td>\n",
       "      <td>[Nexus, Probe, Probe, Probe, Probe, Probe, Pro...</td>\n",
       "      <td>[Hatchery, Drone, Drone, Drone, Drone, Drone, ...</td>\n",
       "    </tr>\n",
       "    <tr>\n",
       "      <th>2</th>\n",
       "      <td>ASUS ROG Online 2020\\ASUS_ROG_Online_2020_repl...</td>\n",
       "      <td>12568</td>\n",
       "      <td>11224</td>\n",
       "      <td>82457</td>\n",
       "      <td>1.0</td>\n",
       "      <td>Deathaura LE</td>\n",
       "      <td>Rogue</td>\n",
       "      <td>&amp;lt;Ex0n&amp;gt;&lt;sp/&gt;MaxPax</td>\n",
       "      <td>[Hatchery, Larva, Larva, Larva, Drone, Drone, ...</td>\n",
       "      <td>[Nexus, Probe, Probe, Probe, Probe, Probe, Pro...</td>\n",
       "    </tr>\n",
       "    <tr>\n",
       "      <th>3</th>\n",
       "      <td>ASUS ROG Online 2020\\ASUS_ROG_Online_2020_repl...</td>\n",
       "      <td>10201</td>\n",
       "      <td>8857</td>\n",
       "      <td>82457</td>\n",
       "      <td>2.0</td>\n",
       "      <td>Pillars of Gold LE</td>\n",
       "      <td>&amp;lt;인투더&amp;gt;&lt;sp/&gt;SpeCial</td>\n",
       "      <td>PartinG</td>\n",
       "      <td>[CommandCenter, SCV, SCV, SCV, SCV, SCV, SCV, ...</td>\n",
       "      <td>[Nexus, Probe, Probe, Probe, Probe, Probe, Pro...</td>\n",
       "    </tr>\n",
       "    <tr>\n",
       "      <th>4</th>\n",
       "      <td>ASUS ROG Online 2020\\ASUS_ROG_Online_2020_repl...</td>\n",
       "      <td>19992</td>\n",
       "      <td>18648</td>\n",
       "      <td>82457</td>\n",
       "      <td>1.0</td>\n",
       "      <td>Romanticide LE</td>\n",
       "      <td>&amp;lt;인투더&amp;gt;&lt;sp/&gt;SpeCial</td>\n",
       "      <td>PartinG</td>\n",
       "      <td>[CommandCenter, SCV, SCV, SCV, SCV, SCV, SCV, ...</td>\n",
       "      <td>[Nexus, Probe, Probe, Probe, Probe, Probe, Pro...</td>\n",
       "    </tr>\n",
       "    <tr>\n",
       "      <th>...</th>\n",
       "      <td>...</td>\n",
       "      <td>...</td>\n",
       "      <td>...</td>\n",
       "      <td>...</td>\n",
       "      <td>...</td>\n",
       "      <td>...</td>\n",
       "      <td>...</td>\n",
       "      <td>...</td>\n",
       "      <td>...</td>\n",
       "      <td>...</td>\n",
       "    </tr>\n",
       "    <tr>\n",
       "      <th>2519</th>\n",
       "      <td>TeamLiquid StarLeague 6\\TSL6 Replay Pack\\Upper...</td>\n",
       "      <td>21000</td>\n",
       "      <td>19656</td>\n",
       "      <td>82893</td>\n",
       "      <td>2.0</td>\n",
       "      <td>Pillars of Gold LE</td>\n",
       "      <td>&amp;lt;xkom&amp;gt;&lt;sp/&gt;AgoElazer</td>\n",
       "      <td>ByuN</td>\n",
       "      <td>[Hatchery, Larva, Larva, Larva, Drone, Drone, ...</td>\n",
       "      <td>[CommandCenter, SCV, SCV, SCV, SCV, SCV, SCV, ...</td>\n",
       "    </tr>\n",
       "    <tr>\n",
       "      <th>2520</th>\n",
       "      <td>TeamLiquid StarLeague 6\\TSL6 Replay Pack\\Upper...</td>\n",
       "      <td>51954</td>\n",
       "      <td>50610</td>\n",
       "      <td>82893</td>\n",
       "      <td>2.0</td>\n",
       "      <td>Romanticide LE</td>\n",
       "      <td>&amp;lt;ENCE&amp;gt;&lt;sp/&gt;Serral</td>\n",
       "      <td>ShoWTimE</td>\n",
       "      <td>[Hatchery, Larva, Larva, Larva, Drone, Drone, ...</td>\n",
       "      <td>[Nexus, Probe, Probe, Probe, Probe, Probe, Pro...</td>\n",
       "    </tr>\n",
       "    <tr>\n",
       "      <th>2521</th>\n",
       "      <td>TeamLiquid StarLeague 6\\TSL6 Replay Pack\\Upper...</td>\n",
       "      <td>15237</td>\n",
       "      <td>13893</td>\n",
       "      <td>82893</td>\n",
       "      <td>1.0</td>\n",
       "      <td>Jagannatha LE</td>\n",
       "      <td>&amp;lt;ENCE&amp;gt;&lt;sp/&gt;Serral</td>\n",
       "      <td>ShoWTimE</td>\n",
       "      <td>[Hatchery, Larva, Larva, Larva, Drone, Drone, ...</td>\n",
       "      <td>[Nexus, Probe, Probe, Probe, Probe, Probe, Pro...</td>\n",
       "    </tr>\n",
       "    <tr>\n",
       "      <th>2522</th>\n",
       "      <td>TeamLiquid StarLeague 6\\TSL6 Replay Pack\\Upper...</td>\n",
       "      <td>13558</td>\n",
       "      <td>12214</td>\n",
       "      <td>82893</td>\n",
       "      <td>1.0</td>\n",
       "      <td>Oxide LE</td>\n",
       "      <td>&amp;lt;ENCE&amp;gt;&lt;sp/&gt;Serral</td>\n",
       "      <td>ShoWTimE</td>\n",
       "      <td>[Hatchery, Larva, Larva, Larva, Drone, Drone, ...</td>\n",
       "      <td>[Nexus, Probe, Probe, Probe, Probe, Probe, Pro...</td>\n",
       "    </tr>\n",
       "    <tr>\n",
       "      <th>2523</th>\n",
       "      <td>TeamLiquid StarLeague 6\\TSL6 Replay Pack\\Upper...</td>\n",
       "      <td>16027</td>\n",
       "      <td>14683</td>\n",
       "      <td>82893</td>\n",
       "      <td>1.0</td>\n",
       "      <td>Lightshade LE</td>\n",
       "      <td>&amp;lt;ENCE&amp;gt;&lt;sp/&gt;Serral</td>\n",
       "      <td>ShoWTimE</td>\n",
       "      <td>[Hatchery, Larva, Larva, Larva, Drone, Drone, ...</td>\n",
       "      <td>[Nexus, Probe, Probe, Probe, Probe, Probe, Pro...</td>\n",
       "    </tr>\n",
       "  </tbody>\n",
       "</table>\n",
       "<p>2524 rows × 10 columns</p>\n",
       "</div>"
      ],
      "text/plain": [
       "                                                   path  total_gameloops  \\\n",
       "0     ASUS ROG Online 2020\\ASUS_ROG_Online_2020_repl...            24725   \n",
       "1     ASUS ROG Online 2020\\ASUS_ROG_Online_2020_repl...            18078   \n",
       "2     ASUS ROG Online 2020\\ASUS_ROG_Online_2020_repl...            12568   \n",
       "3     ASUS ROG Online 2020\\ASUS_ROG_Online_2020_repl...            10201   \n",
       "4     ASUS ROG Online 2020\\ASUS_ROG_Online_2020_repl...            19992   \n",
       "...                                                 ...              ...   \n",
       "2519  TeamLiquid StarLeague 6\\TSL6 Replay Pack\\Upper...            21000   \n",
       "2520  TeamLiquid StarLeague 6\\TSL6 Replay Pack\\Upper...            51954   \n",
       "2521  TeamLiquid StarLeague 6\\TSL6 Replay Pack\\Upper...            15237   \n",
       "2522  TeamLiquid StarLeague 6\\TSL6 Replay Pack\\Upper...            13558   \n",
       "2523  TeamLiquid StarLeague 6\\TSL6 Replay Pack\\Upper...            16027   \n",
       "\n",
       "      gameloop  build  winner                 map                    player_1  \\\n",
       "0        23381  82457     2.0      Romanticide LE     &lt;Ex0n&gt;<sp/>MaxPax   \n",
       "1        16734  82457     2.0            Oxide LE     &lt;Ex0n&gt;<sp/>MaxPax   \n",
       "2        11224  82457     1.0        Deathaura LE                       Rogue   \n",
       "3         8857  82457     2.0  Pillars of Gold LE     &lt;인투더&gt;<sp/>SpeCial   \n",
       "4        18648  82457     1.0      Romanticide LE     &lt;인투더&gt;<sp/>SpeCial   \n",
       "...        ...    ...     ...                 ...                         ...   \n",
       "2519     19656  82893     2.0  Pillars of Gold LE  &lt;xkom&gt;<sp/>AgoElazer   \n",
       "2520     50610  82893     2.0      Romanticide LE     &lt;ENCE&gt;<sp/>Serral   \n",
       "2521     13893  82893     1.0       Jagannatha LE     &lt;ENCE&gt;<sp/>Serral   \n",
       "2522     12214  82893     1.0            Oxide LE     &lt;ENCE&gt;<sp/>Serral   \n",
       "2523     14683  82893     1.0       Lightshade LE     &lt;ENCE&gt;<sp/>Serral   \n",
       "\n",
       "                     player_2  \\\n",
       "0                       Rogue   \n",
       "1                       Rogue   \n",
       "2     &lt;Ex0n&gt;<sp/>MaxPax   \n",
       "3                     PartinG   \n",
       "4                     PartinG   \n",
       "...                       ...   \n",
       "2519                     ByuN   \n",
       "2520                 ShoWTimE   \n",
       "2521                 ShoWTimE   \n",
       "2522                 ShoWTimE   \n",
       "2523                 ShoWTimE   \n",
       "\n",
       "                                         player_1_units  \\\n",
       "0     [Nexus, Probe, Probe, Probe, Probe, Probe, Pro...   \n",
       "1     [Nexus, Probe, Probe, Probe, Probe, Probe, Pro...   \n",
       "2     [Hatchery, Larva, Larva, Larva, Drone, Drone, ...   \n",
       "3     [CommandCenter, SCV, SCV, SCV, SCV, SCV, SCV, ...   \n",
       "4     [CommandCenter, SCV, SCV, SCV, SCV, SCV, SCV, ...   \n",
       "...                                                 ...   \n",
       "2519  [Hatchery, Larva, Larva, Larva, Drone, Drone, ...   \n",
       "2520  [Hatchery, Larva, Larva, Larva, Drone, Drone, ...   \n",
       "2521  [Hatchery, Larva, Larva, Larva, Drone, Drone, ...   \n",
       "2522  [Hatchery, Larva, Larva, Larva, Drone, Drone, ...   \n",
       "2523  [Hatchery, Larva, Larva, Larva, Drone, Drone, ...   \n",
       "\n",
       "                                         player_2_units  \n",
       "0     [Hatchery, Drone, Drone, Drone, Drone, Drone, ...  \n",
       "1     [Hatchery, Drone, Drone, Drone, Drone, Drone, ...  \n",
       "2     [Nexus, Probe, Probe, Probe, Probe, Probe, Pro...  \n",
       "3     [Nexus, Probe, Probe, Probe, Probe, Probe, Pro...  \n",
       "4     [Nexus, Probe, Probe, Probe, Probe, Probe, Pro...  \n",
       "...                                                 ...  \n",
       "2519  [CommandCenter, SCV, SCV, SCV, SCV, SCV, SCV, ...  \n",
       "2520  [Nexus, Probe, Probe, Probe, Probe, Probe, Pro...  \n",
       "2521  [Nexus, Probe, Probe, Probe, Probe, Probe, Pro...  \n",
       "2522  [Nexus, Probe, Probe, Probe, Probe, Probe, Pro...  \n",
       "2523  [Nexus, Probe, Probe, Probe, Probe, Probe, Pro...  \n",
       "\n",
       "[2524 rows x 10 columns]"
      ]
     },
     "execution_count": 185,
     "metadata": {},
     "output_type": "execute_result"
    }
   ],
   "source": [
    "json_data"
   ]
  },
  {
   "cell_type": "code",
   "execution_count": 101,
   "metadata": {},
   "outputs": [],
   "source": [
    "data = pd.read_json(json_data)\n",
    "data.dropna(inplace=True)"
   ]
  },
  {
   "cell_type": "code",
   "execution_count": 102,
   "metadata": {},
   "outputs": [
    {
     "name": "stdout",
     "output_type": "stream",
     "text": [
      "Numeric columns: ['total_gameloops', 'gameloop', 'build', 'winner']\n",
      "Object columns: ['path', 'map', 'player_1', 'player_2', 'player_1_units', 'player_2_units']\n"
     ]
    }
   ],
   "source": [
    "# prompt: python code to get numeric and object columns\n",
    "data = pd.read_json(json_data)\n",
    "data.dropna(inplace=True)\n",
    "numeric_cols = data.select_dtypes(include=['float64', 'int64']).columns.tolist()\n",
    "object_cols = data.select_dtypes(include='object').columns.tolist()\n",
    "\n",
    "print(\"Numeric columns:\", numeric_cols)\n",
    "print(\"Object columns:\", object_cols)\n"
   ]
  },
  {
   "cell_type": "markdown",
   "metadata": {},
   "source": [
    "# EXPLORE"
   ]
  },
  {
   "cell_type": "code",
   "execution_count": 103,
   "metadata": {},
   "outputs": [
    {
     "data": {
      "text/plain": [
       "(       total_gameloops      gameloop         build      winner\n",
       " count      2518.000000   2518.000000   2518.000000  2518.00000\n",
       " mean      16328.741859  14985.270850  82105.328038     1.50834\n",
       " std        7586.949271   7585.857511   2684.937481     0.50003\n",
       " min          12.000000      0.000000  78285.000000     1.00000\n",
       " 25%       11586.250000  10242.250000  78285.000000     1.00000\n",
       " 50%       14978.000000  13634.000000  82893.000000     2.00000\n",
       " 75%       19368.000000  18024.000000  84643.000000     2.00000\n",
       " max       92369.000000  91025.000000  84643.000000     2.00000,\n",
       " 61,\n",
       " 242)"
      ]
     },
     "execution_count": 103,
     "metadata": {},
     "output_type": "execute_result"
    }
   ],
   "source": [
    "# Remove rows with missing 'winner' values\n",
    "df_cleaned = data.dropna(subset=['winner'])\n",
    "\n",
    "# Convert 'winner' to int as we know it should be either 1 or 2\n",
    "df_cleaned['winner'] = df_cleaned['winner'].astype(int)\n",
    "df_cleaned['player_1'] = df_cleaned['player_1'].str.replace('&lt;', '<').str.replace('&gt;', '>').str.replace('<sp/>', '')\n",
    "df_cleaned['player_2'] = df_cleaned['player_2'].str.replace('&lt;', '<').str.replace('&gt;', '>').str.replace('<sp/>', '')\n",
    "# Initial Data Understanding:\n",
    "# Let's get a summary of numerical fields and a brief overview of some categorical fields.\n",
    "\n",
    "# Summary of numerical fields\n",
    "numerical_summary = df_cleaned.describe()\n",
    "\n",
    "# Unique values in some categorical fields\n",
    "unique_maps = df_cleaned['map'].nunique()\n",
    "unique_players = pd.concat([df_cleaned['player_1'], df_cleaned['player_2']]).nunique()\n",
    "\n",
    "numerical_summary, unique_maps, unique_players\n"
   ]
  },
  {
   "cell_type": "code",
   "execution_count": null,
   "metadata": {},
   "outputs": [],
   "source": []
  },
  {
   "cell_type": "code",
   "execution_count": 108,
   "metadata": {},
   "outputs": [
    {
     "name": "stdout",
     "output_type": "stream",
     "text": [
      "Unique Units: 69\n"
     ]
    }
   ],
   "source": [
    "# prompt: python code to get numeric and object columns\n",
    "data = pd.read_json(json_data)\n",
    "data.dropna(inplace=True)\n",
    "numeric_cols = data.select_dtypes(include=['float64', 'int64']).columns.tolist()\n",
    "object_cols = data.select_dtypes(include='object').columns.tolist()\n",
    "\n",
    "print(\"Numeric columns:\", numeric_cols)\n",
    "print(\"Object columns:\", object_cols)\n",
    "\n",
    "\n",
    "# Function to parse the string representation of lists and count unit types\n",
    "def parse_and_count_units(unit_str):\n",
    "    # Convert the string representation of the list into an actual list\n",
    "    # units_list = literal_eval(unit_str)\n",
    "    # Count the occurrence of each unit type\n",
    "    unit_counts = Counter(unit_str)\n",
    "    return unit_counts\n",
    "\n",
    "# Apply the function to both player_1_units and player_2_units columns\n",
    "player_1_units_counts = df_cleaned['player_1_units'].apply(parse_and_count_units)\n",
    "player_2_units_counts = df_cleaned['player_2_units'].apply(parse_and_count_units)\n",
    "\n",
    "\n",
    "# Combine all unit counts to identify all unique units in the dataset\n",
    "all_unit_counts = pd.concat([player_1_units_counts, player_2_units_counts])\n",
    "all_unique_units = set(unit for counts in all_unit_counts for unit in counts)\n",
    "\n",
    "print(f\"Unique Units: {len(all_unique_units)}\")\n",
    "\n",
    "player_1_cols = [f'player_1_{unit}' for unit in all_unique_units]\n",
    "player_2_cols = [f'player_2_{unit}' for unit in all_unique_units]\n",
    "new_cols_df = pd.DataFrame(0, index=df_cleaned.index, columns=player_1_cols + player_2_cols)\n",
    "df_cleaned = pd.concat([df_cleaned, new_cols_df], axis=1)\n",
    "\n",
    "# Populate the unit count columns for each player\n",
    "for index, row in df_cleaned.iterrows():\n",
    "    for unit, count in player_1_units_counts[index].items():\n",
    "        df_cleaned.loc[index, f'player_1_{unit}'] = count\n",
    "    for unit, count in player_2_units_counts[index].items():\n",
    "        df_cleaned.loc[index, f'player_2_{unit}'] = count"
   ]
  },
  {
   "cell_type": "code",
   "execution_count": 112,
   "metadata": {},
   "outputs": [],
   "source": [
    "from sklearn.preprocessing import OneHotEncoder, StandardScaler\n",
    "from sklearn.preprocessing import LabelEncoder\n",
    "\n",
    "from sklearn.linear_model import LogisticRegression\n",
    "from sklearn.ensemble import RandomForestClassifier\n",
    "from xgboost import XGBClassifier\n",
    "from sklearn.model_selection import train_test_split\n",
    "from sklearn.metrics import classification_report"
   ]
  },
  {
   "cell_type": "code",
   "execution_count": null,
   "metadata": {},
   "outputs": [],
   "source": []
  },
  {
   "cell_type": "code",
   "execution_count": null,
   "metadata": {},
   "outputs": [],
   "source": []
  },
  {
   "cell_type": "code",
   "execution_count": null,
   "metadata": {},
   "outputs": [],
   "source": []
  },
  {
   "cell_type": "code",
   "execution_count": null,
   "metadata": {},
   "outputs": [],
   "source": []
  },
  {
   "cell_type": "code",
   "execution_count": null,
   "metadata": {},
   "outputs": [],
   "source": []
  },
  {
   "cell_type": "code",
   "execution_count": 175,
   "metadata": {},
   "outputs": [
    {
     "name": "stdout",
     "output_type": "stream",
     "text": [
      "player_1_Hatchery\n"
     ]
    }
   ],
   "source": [
    "unit_columns = [col for col in df_prepared_final_corrected.columns if 'player_1_' in col and col.replace('player_1_', 'player_2_') in df_prepared_final_corrected.columns and col != 'player_1_units']\n",
    "for unit_col in unit_columns:\n",
    "    print(unit_col)\n",
    "    player_2_col = unit_col.replace('player_1_', 'player_2_')\n",
    "    differential_col = unit_col.replace('player_1_', 'diff_')\n",
    "    df_prepared_final_corrected[differential_col] = df_prepared_final_corrected[unit_col] - df_prepared_final_corrected[player_2_col]\n",
    "    break"
   ]
  },
  {
   "cell_type": "code",
   "execution_count": null,
   "metadata": {},
   "outputs": [],
   "source": []
  },
  {
   "cell_type": "code",
   "execution_count": 174,
   "metadata": {},
   "outputs": [],
   "source": []
  },
  {
   "cell_type": "code",
   "execution_count": null,
   "metadata": {},
   "outputs": [],
   "source": [
    "df_prepared_final_corrected[player_2_col]"
   ]
  },
  {
   "cell_type": "code",
   "execution_count": null,
   "metadata": {},
   "outputs": [],
   "source": []
  },
  {
   "cell_type": "code",
   "execution_count": null,
   "metadata": {},
   "outputs": [],
   "source": []
  },
  {
   "cell_type": "code",
   "execution_count": 156,
   "metadata": {},
   "outputs": [
    {
     "ename": "TypeError",
     "evalue": "unsupported operand type(s) for -: 'list' and 'list'",
     "output_type": "error",
     "traceback": [
      "\u001b[1;31m---------------------------------------------------------------------------\u001b[0m",
      "\u001b[1;31mTypeError\u001b[0m                                 Traceback (most recent call last)",
      "File \u001b[1;32mc:\\Users\\Zeerak\\anaconda3\\envs\\junction\\lib\\site-packages\\pandas\\core\\ops\\array_ops.py:218\u001b[0m, in \u001b[0;36m_na_arithmetic_op\u001b[1;34m(left, right, op, is_cmp)\u001b[0m\n\u001b[0;32m    217\u001b[0m \u001b[38;5;28;01mtry\u001b[39;00m:\n\u001b[1;32m--> 218\u001b[0m     result \u001b[38;5;241m=\u001b[39m \u001b[43mfunc\u001b[49m\u001b[43m(\u001b[49m\u001b[43mleft\u001b[49m\u001b[43m,\u001b[49m\u001b[43m \u001b[49m\u001b[43mright\u001b[49m\u001b[43m)\u001b[49m\n\u001b[0;32m    219\u001b[0m \u001b[38;5;28;01mexcept\u001b[39;00m \u001b[38;5;167;01mTypeError\u001b[39;00m:\n",
      "File \u001b[1;32mc:\\Users\\Zeerak\\anaconda3\\envs\\junction\\lib\\site-packages\\pandas\\core\\computation\\expressions.py:242\u001b[0m, in \u001b[0;36mevaluate\u001b[1;34m(op, a, b, use_numexpr)\u001b[0m\n\u001b[0;32m    240\u001b[0m     \u001b[38;5;28;01mif\u001b[39;00m use_numexpr:\n\u001b[0;32m    241\u001b[0m         \u001b[38;5;66;03m# error: \"None\" not callable\u001b[39;00m\n\u001b[1;32m--> 242\u001b[0m         \u001b[38;5;28;01mreturn\u001b[39;00m \u001b[43m_evaluate\u001b[49m\u001b[43m(\u001b[49m\u001b[43mop\u001b[49m\u001b[43m,\u001b[49m\u001b[43m \u001b[49m\u001b[43mop_str\u001b[49m\u001b[43m,\u001b[49m\u001b[43m \u001b[49m\u001b[43ma\u001b[49m\u001b[43m,\u001b[49m\u001b[43m \u001b[49m\u001b[43mb\u001b[49m\u001b[43m)\u001b[49m  \u001b[38;5;66;03m# type: ignore[misc]\u001b[39;00m\n\u001b[0;32m    243\u001b[0m \u001b[38;5;28;01mreturn\u001b[39;00m _evaluate_standard(op, op_str, a, b)\n",
      "File \u001b[1;32mc:\\Users\\Zeerak\\anaconda3\\envs\\junction\\lib\\site-packages\\pandas\\core\\computation\\expressions.py:73\u001b[0m, in \u001b[0;36m_evaluate_standard\u001b[1;34m(op, op_str, a, b)\u001b[0m\n\u001b[0;32m     72\u001b[0m     _store_test_result(\u001b[38;5;28;01mFalse\u001b[39;00m)\n\u001b[1;32m---> 73\u001b[0m \u001b[38;5;28;01mreturn\u001b[39;00m \u001b[43mop\u001b[49m\u001b[43m(\u001b[49m\u001b[43ma\u001b[49m\u001b[43m,\u001b[49m\u001b[43m \u001b[49m\u001b[43mb\u001b[49m\u001b[43m)\u001b[49m\n",
      "\u001b[1;31mTypeError\u001b[0m: unsupported operand type(s) for -: 'list' and 'list'",
      "\nDuring handling of the above exception, another exception occurred:\n",
      "\u001b[1;31mTypeError\u001b[0m                                 Traceback (most recent call last)",
      "Cell \u001b[1;32mIn[156], line 7\u001b[0m\n\u001b[0;32m      5\u001b[0m     player_2_col \u001b[38;5;241m=\u001b[39m unit_col\u001b[38;5;241m.\u001b[39mreplace(\u001b[38;5;124m'\u001b[39m\u001b[38;5;124mplayer_1_\u001b[39m\u001b[38;5;124m'\u001b[39m, \u001b[38;5;124m'\u001b[39m\u001b[38;5;124mplayer_2_\u001b[39m\u001b[38;5;124m'\u001b[39m)\n\u001b[0;32m      6\u001b[0m     differential_col \u001b[38;5;241m=\u001b[39m unit_col\u001b[38;5;241m.\u001b[39mreplace(\u001b[38;5;124m'\u001b[39m\u001b[38;5;124mplayer_1_\u001b[39m\u001b[38;5;124m'\u001b[39m, \u001b[38;5;124m'\u001b[39m\u001b[38;5;124mdiff_\u001b[39m\u001b[38;5;124m'\u001b[39m)\n\u001b[1;32m----> 7\u001b[0m     df_prepared_final_corrected[differential_col] \u001b[38;5;241m=\u001b[39m \u001b[43mdf_prepared_final_corrected\u001b[49m\u001b[43m[\u001b[49m\u001b[43munit_col\u001b[49m\u001b[43m]\u001b[49m\u001b[43m \u001b[49m\u001b[38;5;241;43m-\u001b[39;49m\u001b[43m \u001b[49m\u001b[43mdf_prepared_final_corrected\u001b[49m\u001b[43m[\u001b[49m\u001b[43mplayer_2_col\u001b[49m\u001b[43m]\u001b[49m\n\u001b[0;32m      9\u001b[0m \u001b[38;5;66;03m# Update X with new differential features for retraining\u001b[39;00m\n\u001b[0;32m     10\u001b[0m X \u001b[38;5;241m=\u001b[39m df_prepared_final_corrected\u001b[38;5;241m.\u001b[39mdrop([\u001b[38;5;124m'\u001b[39m\u001b[38;5;124mpath\u001b[39m\u001b[38;5;124m'\u001b[39m, \u001b[38;5;124m'\u001b[39m\u001b[38;5;124mwinner\u001b[39m\u001b[38;5;124m'\u001b[39m, \u001b[38;5;124m'\u001b[39m\u001b[38;5;124mplayer_1_units\u001b[39m\u001b[38;5;124m'\u001b[39m, \u001b[38;5;124m'\u001b[39m\u001b[38;5;124mplayer_2_units\u001b[39m\u001b[38;5;124m'\u001b[39m], axis\u001b[38;5;241m=\u001b[39m\u001b[38;5;241m1\u001b[39m)\n",
      "File \u001b[1;32mc:\\Users\\Zeerak\\anaconda3\\envs\\junction\\lib\\site-packages\\pandas\\core\\ops\\common.py:76\u001b[0m, in \u001b[0;36m_unpack_zerodim_and_defer.<locals>.new_method\u001b[1;34m(self, other)\u001b[0m\n\u001b[0;32m     72\u001b[0m             \u001b[38;5;28;01mreturn\u001b[39;00m \u001b[38;5;28mNotImplemented\u001b[39m\n\u001b[0;32m     74\u001b[0m other \u001b[38;5;241m=\u001b[39m item_from_zerodim(other)\n\u001b[1;32m---> 76\u001b[0m \u001b[38;5;28;01mreturn\u001b[39;00m \u001b[43mmethod\u001b[49m\u001b[43m(\u001b[49m\u001b[38;5;28;43mself\u001b[39;49m\u001b[43m,\u001b[49m\u001b[43m \u001b[49m\u001b[43mother\u001b[49m\u001b[43m)\u001b[49m\n",
      "File \u001b[1;32mc:\\Users\\Zeerak\\anaconda3\\envs\\junction\\lib\\site-packages\\pandas\\core\\arraylike.py:194\u001b[0m, in \u001b[0;36mOpsMixin.__sub__\u001b[1;34m(self, other)\u001b[0m\n\u001b[0;32m    192\u001b[0m \u001b[38;5;129m@unpack_zerodim_and_defer\u001b[39m(\u001b[38;5;124m\"\u001b[39m\u001b[38;5;124m__sub__\u001b[39m\u001b[38;5;124m\"\u001b[39m)\n\u001b[0;32m    193\u001b[0m \u001b[38;5;28;01mdef\u001b[39;00m \u001b[38;5;21m__sub__\u001b[39m(\u001b[38;5;28mself\u001b[39m, other):\n\u001b[1;32m--> 194\u001b[0m     \u001b[38;5;28;01mreturn\u001b[39;00m \u001b[38;5;28;43mself\u001b[39;49m\u001b[38;5;241;43m.\u001b[39;49m\u001b[43m_arith_method\u001b[49m\u001b[43m(\u001b[49m\u001b[43mother\u001b[49m\u001b[43m,\u001b[49m\u001b[43m \u001b[49m\u001b[43moperator\u001b[49m\u001b[38;5;241;43m.\u001b[39;49m\u001b[43msub\u001b[49m\u001b[43m)\u001b[49m\n",
      "File \u001b[1;32mc:\\Users\\Zeerak\\anaconda3\\envs\\junction\\lib\\site-packages\\pandas\\core\\series.py:6126\u001b[0m, in \u001b[0;36mSeries._arith_method\u001b[1;34m(self, other, op)\u001b[0m\n\u001b[0;32m   6124\u001b[0m \u001b[38;5;28;01mdef\u001b[39;00m \u001b[38;5;21m_arith_method\u001b[39m(\u001b[38;5;28mself\u001b[39m, other, op):\n\u001b[0;32m   6125\u001b[0m     \u001b[38;5;28mself\u001b[39m, other \u001b[38;5;241m=\u001b[39m \u001b[38;5;28mself\u001b[39m\u001b[38;5;241m.\u001b[39m_align_for_op(other)\n\u001b[1;32m-> 6126\u001b[0m     \u001b[38;5;28;01mreturn\u001b[39;00m \u001b[43mbase\u001b[49m\u001b[38;5;241;43m.\u001b[39;49m\u001b[43mIndexOpsMixin\u001b[49m\u001b[38;5;241;43m.\u001b[39;49m\u001b[43m_arith_method\u001b[49m\u001b[43m(\u001b[49m\u001b[38;5;28;43mself\u001b[39;49m\u001b[43m,\u001b[49m\u001b[43m \u001b[49m\u001b[43mother\u001b[49m\u001b[43m,\u001b[49m\u001b[43m \u001b[49m\u001b[43mop\u001b[49m\u001b[43m)\u001b[49m\n",
      "File \u001b[1;32mc:\\Users\\Zeerak\\anaconda3\\envs\\junction\\lib\\site-packages\\pandas\\core\\base.py:1382\u001b[0m, in \u001b[0;36mIndexOpsMixin._arith_method\u001b[1;34m(self, other, op)\u001b[0m\n\u001b[0;32m   1379\u001b[0m     rvalues \u001b[38;5;241m=\u001b[39m np\u001b[38;5;241m.\u001b[39marange(rvalues\u001b[38;5;241m.\u001b[39mstart, rvalues\u001b[38;5;241m.\u001b[39mstop, rvalues\u001b[38;5;241m.\u001b[39mstep)\n\u001b[0;32m   1381\u001b[0m \u001b[38;5;28;01mwith\u001b[39;00m np\u001b[38;5;241m.\u001b[39merrstate(\u001b[38;5;28mall\u001b[39m\u001b[38;5;241m=\u001b[39m\u001b[38;5;124m\"\u001b[39m\u001b[38;5;124mignore\u001b[39m\u001b[38;5;124m\"\u001b[39m):\n\u001b[1;32m-> 1382\u001b[0m     result \u001b[38;5;241m=\u001b[39m \u001b[43mops\u001b[49m\u001b[38;5;241;43m.\u001b[39;49m\u001b[43marithmetic_op\u001b[49m\u001b[43m(\u001b[49m\u001b[43mlvalues\u001b[49m\u001b[43m,\u001b[49m\u001b[43m \u001b[49m\u001b[43mrvalues\u001b[49m\u001b[43m,\u001b[49m\u001b[43m \u001b[49m\u001b[43mop\u001b[49m\u001b[43m)\u001b[49m\n\u001b[0;32m   1384\u001b[0m \u001b[38;5;28;01mreturn\u001b[39;00m \u001b[38;5;28mself\u001b[39m\u001b[38;5;241m.\u001b[39m_construct_result(result, name\u001b[38;5;241m=\u001b[39mres_name)\n",
      "File \u001b[1;32mc:\\Users\\Zeerak\\anaconda3\\envs\\junction\\lib\\site-packages\\pandas\\core\\ops\\array_ops.py:283\u001b[0m, in \u001b[0;36marithmetic_op\u001b[1;34m(left, right, op)\u001b[0m\n\u001b[0;32m    279\u001b[0m     _bool_arith_check(op, left, right)  \u001b[38;5;66;03m# type: ignore[arg-type]\u001b[39;00m\n\u001b[0;32m    281\u001b[0m     \u001b[38;5;66;03m# error: Argument 1 to \"_na_arithmetic_op\" has incompatible type\u001b[39;00m\n\u001b[0;32m    282\u001b[0m     \u001b[38;5;66;03m# \"Union[ExtensionArray, ndarray[Any, Any]]\"; expected \"ndarray[Any, Any]\"\u001b[39;00m\n\u001b[1;32m--> 283\u001b[0m     res_values \u001b[38;5;241m=\u001b[39m \u001b[43m_na_arithmetic_op\u001b[49m\u001b[43m(\u001b[49m\u001b[43mleft\u001b[49m\u001b[43m,\u001b[49m\u001b[43m \u001b[49m\u001b[43mright\u001b[49m\u001b[43m,\u001b[49m\u001b[43m \u001b[49m\u001b[43mop\u001b[49m\u001b[43m)\u001b[49m  \u001b[38;5;66;03m# type: ignore[arg-type]\u001b[39;00m\n\u001b[0;32m    285\u001b[0m \u001b[38;5;28;01mreturn\u001b[39;00m res_values\n",
      "File \u001b[1;32mc:\\Users\\Zeerak\\anaconda3\\envs\\junction\\lib\\site-packages\\pandas\\core\\ops\\array_ops.py:227\u001b[0m, in \u001b[0;36m_na_arithmetic_op\u001b[1;34m(left, right, op, is_cmp)\u001b[0m\n\u001b[0;32m    219\u001b[0m \u001b[38;5;28;01mexcept\u001b[39;00m \u001b[38;5;167;01mTypeError\u001b[39;00m:\n\u001b[0;32m    220\u001b[0m     \u001b[38;5;28;01mif\u001b[39;00m \u001b[38;5;129;01mnot\u001b[39;00m is_cmp \u001b[38;5;129;01mand\u001b[39;00m (\n\u001b[0;32m    221\u001b[0m         left\u001b[38;5;241m.\u001b[39mdtype \u001b[38;5;241m==\u001b[39m \u001b[38;5;28mobject\u001b[39m \u001b[38;5;129;01mor\u001b[39;00m \u001b[38;5;28mgetattr\u001b[39m(right, \u001b[38;5;124m\"\u001b[39m\u001b[38;5;124mdtype\u001b[39m\u001b[38;5;124m\"\u001b[39m, \u001b[38;5;28;01mNone\u001b[39;00m) \u001b[38;5;241m==\u001b[39m \u001b[38;5;28mobject\u001b[39m\n\u001b[0;32m    222\u001b[0m     ):\n\u001b[1;32m   (...)\u001b[0m\n\u001b[0;32m    225\u001b[0m         \u001b[38;5;66;03m# Don't do this for comparisons, as that will handle complex numbers\u001b[39;00m\n\u001b[0;32m    226\u001b[0m         \u001b[38;5;66;03m#  incorrectly, see GH#32047\u001b[39;00m\n\u001b[1;32m--> 227\u001b[0m         result \u001b[38;5;241m=\u001b[39m \u001b[43m_masked_arith_op\u001b[49m\u001b[43m(\u001b[49m\u001b[43mleft\u001b[49m\u001b[43m,\u001b[49m\u001b[43m \u001b[49m\u001b[43mright\u001b[49m\u001b[43m,\u001b[49m\u001b[43m \u001b[49m\u001b[43mop\u001b[49m\u001b[43m)\u001b[49m\n\u001b[0;32m    228\u001b[0m     \u001b[38;5;28;01melse\u001b[39;00m:\n\u001b[0;32m    229\u001b[0m         \u001b[38;5;28;01mraise\u001b[39;00m\n",
      "File \u001b[1;32mc:\\Users\\Zeerak\\anaconda3\\envs\\junction\\lib\\site-packages\\pandas\\core\\ops\\array_ops.py:163\u001b[0m, in \u001b[0;36m_masked_arith_op\u001b[1;34m(x, y, op)\u001b[0m\n\u001b[0;32m    161\u001b[0m     \u001b[38;5;66;03m# See GH#5284, GH#5035, GH#19448 for historical reference\u001b[39;00m\n\u001b[0;32m    162\u001b[0m     \u001b[38;5;28;01mif\u001b[39;00m mask\u001b[38;5;241m.\u001b[39many():\n\u001b[1;32m--> 163\u001b[0m         result[mask] \u001b[38;5;241m=\u001b[39m \u001b[43mop\u001b[49m\u001b[43m(\u001b[49m\u001b[43mxrav\u001b[49m\u001b[43m[\u001b[49m\u001b[43mmask\u001b[49m\u001b[43m]\u001b[49m\u001b[43m,\u001b[49m\u001b[43m \u001b[49m\u001b[43myrav\u001b[49m\u001b[43m[\u001b[49m\u001b[43mmask\u001b[49m\u001b[43m]\u001b[49m\u001b[43m)\u001b[49m\n\u001b[0;32m    165\u001b[0m \u001b[38;5;28;01melse\u001b[39;00m:\n\u001b[0;32m    166\u001b[0m     \u001b[38;5;28;01mif\u001b[39;00m \u001b[38;5;129;01mnot\u001b[39;00m is_scalar(y):\n",
      "\u001b[1;31mTypeError\u001b[0m: unsupported operand type(s) for -: 'list' and 'list'"
     ]
    }
   ],
   "source": [
    "# Assuming 'df_prepared_final_corrected' contains all preprocessed data including unit counts\n",
    "unit_columns = [col for col in df_prepared_final_corrected.columns if 'player_1_' in col and col.replace('player_1_', 'player_2_') in df_prepared_final_corrected.columns]\n",
    "\n",
    "for unit_col in unit_columns:\n",
    "    player_2_col = unit_col.replace('player_1_', 'player_2_')\n",
    "    differential_col = unit_col.replace('player_1_', 'diff_')\n",
    "    df_prepared_final_corrected[differential_col] = df_prepared_final_corrected[unit_col] - df_prepared_final_corrected[player_2_col]\n",
    "\n",
    "# Update X with new differential features for retraining\n",
    "X = df_prepared_final_corrected.drop(['path', 'winner', 'player_1_units', 'player_2_units'], axis=1)\n"
   ]
  },
  {
   "cell_type": "code",
   "execution_count": null,
   "metadata": {},
   "outputs": [],
   "source": []
  },
  {
   "cell_type": "code",
   "execution_count": 117,
   "metadata": {},
   "outputs": [],
   "source": [
    "importances = rf.feature_importances_\n",
    "features = X_train.columns\n",
    "indices = np.argsort(importances)[::-1]\n"
   ]
  },
  {
   "cell_type": "code",
   "execution_count": 133,
   "metadata": {},
   "outputs": [
    {
     "data": {
      "text/plain": [
       "True"
      ]
     },
     "execution_count": 133,
     "metadata": {},
     "output_type": "execute_result"
    }
   ],
   "source": [
    "'player_hash_0' in features "
   ]
  },
  {
   "cell_type": "code",
   "execution_count": 135,
   "metadata": {},
   "outputs": [],
   "source": [
    "importances = pd.DataFrame([indices], columns=[features]).T.sort_values(by=0, ascending=True).reset_index()"
   ]
  },
  {
   "cell_type": "code",
   "execution_count": 137,
   "metadata": {},
   "outputs": [
    {
     "data": {
      "text/html": [
       "<div>\n",
       "<style scoped>\n",
       "    .dataframe tbody tr th:only-of-type {\n",
       "        vertical-align: middle;\n",
       "    }\n",
       "\n",
       "    .dataframe tbody tr th {\n",
       "        vertical-align: top;\n",
       "    }\n",
       "\n",
       "    .dataframe thead th {\n",
       "        text-align: right;\n",
       "    }\n",
       "</style>\n",
       "<table border=\"1\" class=\"dataframe\">\n",
       "  <thead>\n",
       "    <tr style=\"text-align: right;\">\n",
       "      <th></th>\n",
       "      <th>level_0</th>\n",
       "      <th>0</th>\n",
       "    </tr>\n",
       "  </thead>\n",
       "  <tbody>\n",
       "    <tr>\n",
       "      <th>98</th>\n",
       "      <td>player_hash_5</td>\n",
       "      <td>98</td>\n",
       "    </tr>\n",
       "    <tr>\n",
       "      <th>101</th>\n",
       "      <td>player_hash_0</td>\n",
       "      <td>101</td>\n",
       "    </tr>\n",
       "    <tr>\n",
       "      <th>115</th>\n",
       "      <td>player_hash_8</td>\n",
       "      <td>115</td>\n",
       "    </tr>\n",
       "    <tr>\n",
       "      <th>128</th>\n",
       "      <td>player_hash_1</td>\n",
       "      <td>128</td>\n",
       "    </tr>\n",
       "    <tr>\n",
       "      <th>135</th>\n",
       "      <td>player_hash_3</td>\n",
       "      <td>135</td>\n",
       "    </tr>\n",
       "    <tr>\n",
       "      <th>153</th>\n",
       "      <td>player_hash_7</td>\n",
       "      <td>153</td>\n",
       "    </tr>\n",
       "    <tr>\n",
       "      <th>156</th>\n",
       "      <td>player_hash_2</td>\n",
       "      <td>156</td>\n",
       "    </tr>\n",
       "    <tr>\n",
       "      <th>160</th>\n",
       "      <td>player_hash_4</td>\n",
       "      <td>160</td>\n",
       "    </tr>\n",
       "    <tr>\n",
       "      <th>168</th>\n",
       "      <td>player_hash_6</td>\n",
       "      <td>168</td>\n",
       "    </tr>\n",
       "    <tr>\n",
       "      <th>170</th>\n",
       "      <td>player_hash_9</td>\n",
       "      <td>170</td>\n",
       "    </tr>\n",
       "  </tbody>\n",
       "</table>\n",
       "</div>"
      ],
      "text/plain": [
       "           level_0    0\n",
       "98   player_hash_5   98\n",
       "101  player_hash_0  101\n",
       "115  player_hash_8  115\n",
       "128  player_hash_1  128\n",
       "135  player_hash_3  135\n",
       "153  player_hash_7  153\n",
       "156  player_hash_2  156\n",
       "160  player_hash_4  160\n",
       "168  player_hash_6  168\n",
       "170  player_hash_9  170"
      ]
     },
     "execution_count": 137,
     "metadata": {},
     "output_type": "execute_result"
    }
   ],
   "source": [
    "importances[importances['level_0'].isin(hashed_features_df_corrected.columns)] "
   ]
  },
  {
   "cell_type": "code",
   "execution_count": 143,
   "metadata": {},
   "outputs": [
    {
     "data": {
      "text/plain": [
       "path\n",
       "DH SC2 Masters 2021 Summer                 791\n",
       "IEM Katowice 2020                          438\n",
       "IEM Katowice 2021                          261\n",
       "DH SC2 Masters 2020 Winter                 190\n",
       "StayAtHome Story Cup #3                    183\n",
       "TeamLiquid StarLeague 5                    183\n",
       "StayAtHome Story Cup #1                    172\n",
       "TeamLiquid StarLeague 6                    121\n",
       "ASUS ROG Online 2020                       107\n",
       "Cheeseadelphia Winter Championship 2021     72\n",
       "Name: count, dtype: int64"
      ]
     },
     "execution_count": 143,
     "metadata": {},
     "output_type": "execute_result"
    }
   ],
   "source": [
    "data['path'].str.split('\\\\').str[0].value_counts()"
   ]
  },
  {
   "cell_type": "code",
   "execution_count": 155,
   "metadata": {},
   "outputs": [
    {
     "data": {
      "text/plain": [
       "path\n",
       "20210527_-_GAME_1_-_XY_vs_Firefly_-_T_vs_P_-_Romanticide_LE.SC2Replay          1\n",
       "20210527_-_GAME_2_-_XY_vs_Firefly_-_T_vs_P_-_2000_Atmospheres_LE.SC2Replay     1\n",
       "20210526 - GAME 1 - XY vs Dragon - T vs T - Blackburn.SC2Replay                1\n",
       "20210526 - GAME 2 - XY vs Dragon - T vs T - Beckett Industries.SC2Replay       1\n",
       "20210526 - GAME 3 - XY vs Dragon - T vs T - Oxide.SC2Replay                    1\n",
       "20210526_-_GAME_1_-_Firefly_vs_TIME_-_P_vs_T_-_2000_Atmospheres.SC2Replay      1\n",
       "20210526_-_GAME_2_-_Firefly_vs_TIME_-_P_vs_T_-_Jagannatha.SC2Replay            1\n",
       "20210527_-_GAME_1_-_Cyan_vs_Jieshi_-_P_vs_P_-_Oxide_LE.SC2Replay               1\n",
       "20210527_-_GAME_2_-_Cyan_vs_Jieshi_-_P_vs_P_-_2000_Atmospheres_LE.SC2Replay    1\n",
       "20210527_-_GAME_1_-_Jieshi_vs_Coffee_-_P_vs_T_-_Oxide_LE.SC2Replay             1\n",
       "20210527_-_GAME_2_-_Jieshi_vs_Coffee_-_P_vs_T_-_Romanticide_LE.SC2Replay       1\n",
       "Name: count, dtype: int64"
      ]
     },
     "execution_count": 155,
     "metadata": {},
     "output_type": "execute_result"
    }
   ],
   "source": [
    "data['path'].str.split('\\\\').str[7].value_counts()"
   ]
  },
  {
   "cell_type": "code",
   "execution_count": 154,
   "metadata": {},
   "outputs": [
    {
     "data": {
      "text/plain": [
       "path\n",
       "4 - Europe                                          351\n",
       "Ro76                                                254\n",
       "2 - North America                                   172\n",
       "Upper Bracket                                       150\n",
       "Lower Bracket                                       148\n",
       "                                                   ... \n",
       "Namshar, SKillous Romanticide LE.SC2Replay            1\n",
       "Namshar, uwuThermal Pillars of Gold LE.SC2Replay      1\n",
       "SKillous, Dream Pillars of Gold LE.SC2Replay          1\n",
       "uwuThermal, Dream Lightshade LE.SC2Replay             1\n",
       "goblin, Zoun Jagannatha LE.SC2Replay                  1\n",
       "Name: count, Length: 75, dtype: int64"
      ]
     },
     "execution_count": 154,
     "metadata": {},
     "output_type": "execute_result"
    }
   ],
   "source": [
    "data['path'].str.split('\\\\').str[2].value_counts()"
   ]
  },
  {
   "cell_type": "code",
   "execution_count": null,
   "metadata": {},
   "outputs": [],
   "source": []
  },
  {
   "cell_type": "code",
   "execution_count": null,
   "metadata": {},
   "outputs": [],
   "source": []
  }
 ],
 "metadata": {
  "kernelspec": {
   "display_name": "junction",
   "language": "python",
   "name": "python3"
  },
  "language_info": {
   "codemirror_mode": {
    "name": "ipython",
    "version": 3
   },
   "file_extension": ".py",
   "mimetype": "text/x-python",
   "name": "python",
   "nbconvert_exporter": "python",
   "pygments_lexer": "ipython3",
   "version": "3.10.13"
  }
 },
 "nbformat": 4,
 "nbformat_minor": 2
}
