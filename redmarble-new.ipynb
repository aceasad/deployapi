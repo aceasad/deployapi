{
 "cells": [
  {
   "cell_type": "code",
   "execution_count": 1,
   "metadata": {},
   "outputs": [],
   "source": [
    "import pandas as pd\n",
    "import json\n",
    "import numpy as np\n",
    "import os\n",
    "from pathlib import Path\n",
    "from ast import literal_eval\n",
    "from collections import Counter\n",
    "from sklearn.model_selection import train_test_split\n",
    "from sklearn.preprocessing import OneHotEncoder, StandardScaler\n",
    "from sklearn.linear_model import LogisticRegression\n",
    "from sklearn.feature_extraction import FeatureHasher\n",
    "from sklearn.metrics import classification_report\n",
    "from sklearn.preprocessing import LabelEncoder\n",
    "from sklearn.ensemble import RandomForestClassifier\n",
    "\n",
    "from xgboost import XGBClassifier\n"
   ]
  },
  {
   "cell_type": "code",
   "execution_count": 4,
   "metadata": {},
   "outputs": [],
   "source": [
    "data = pd.read_json('data-old/replay_summaries.json')\n",
    "data.dropna(inplace=True)"
   ]
  },
  {
   "cell_type": "code",
   "execution_count": 5,
   "metadata": {},
   "outputs": [],
   "source": [
    "def parse_and_count_units(unit_str):\n",
    "    # Convert the string representation of the list into an actual list\n",
    "    # units_list = literal_eval(unit_str)\n",
    "    # Count the occurrence of each unit type\n",
    "    unit_counts = Counter(unit_str)\n",
    "    return unit_counts"
   ]
  },
  {
   "cell_type": "code",
   "execution_count": 13,
   "metadata": {},
   "outputs": [],
   "source": [
    "player_1_units_counts = data['player_1_units'].apply(parse_and_count_units)\n",
    "player_2_units_counts = data['player_2_units'].apply(parse_and_count_units)\n",
    "# Combine all unit counts to identify all unique units in the dataset\n",
    "all_unit_counts = pd.concat([player_1_units_counts, player_2_units_counts])\n",
    "all_unique_units = set(unit for counts in all_unit_counts for unit in counts)\n",
    "\n",
    "player_1_cols = [f'player_1_{unit}' for unit in all_unique_units]\n",
    "player_2_cols = [f'player_2_{unit}' for unit in all_unique_units]"
   ]
  },
  {
   "cell_type": "code",
   "execution_count": 14,
   "metadata": {},
   "outputs": [],
   "source": [
    "new_cols_df = pd.DataFrame(0, index=data.index, columns=player_1_cols + player_2_cols)\n"
   ]
  },
  {
   "cell_type": "code",
   "execution_count": 18,
   "metadata": {},
   "outputs": [
    {
     "data": {
      "text/plain": [
       "{'Adept',\n",
       " 'Archon',\n",
       " 'AutoTurret',\n",
       " 'Baneling',\n",
       " 'Banshee',\n",
       " 'Battlecruiser',\n",
       " 'Broodling',\n",
       " 'BroodlingEscort',\n",
       " 'Carrier',\n",
       " 'Changeling',\n",
       " 'ChangelingMarine',\n",
       " 'ChangelingMarineShield',\n",
       " 'ChangelingZealot',\n",
       " 'ChangelingZergling',\n",
       " 'ChangelingZerglingWings',\n",
       " 'Colossus',\n",
       " 'CommandCenter',\n",
       " 'Corruptor',\n",
       " 'Cyclone',\n",
       " 'Disruptor',\n",
       " 'Drone',\n",
       " 'Ghost',\n",
       " 'GhostAlternate',\n",
       " 'Hatchery',\n",
       " 'Hellion',\n",
       " 'HellionTank',\n",
       " 'Hydralisk',\n",
       " 'Immortal',\n",
       " 'Infestor',\n",
       " 'Interceptor',\n",
       " 'KD8Charge',\n",
       " 'Larva',\n",
       " 'Liberator',\n",
       " 'LocustMP',\n",
       " 'LocustMPPrecursor',\n",
       " 'MULE',\n",
       " 'Marauder',\n",
       " 'Marine',\n",
       " 'Medivac',\n",
       " 'Mothership',\n",
       " 'Mutalisk',\n",
       " 'Nexus',\n",
       " 'Nuke',\n",
       " 'Observer',\n",
       " 'Oracle',\n",
       " 'Overlord',\n",
       " 'ParasiticBombDummy',\n",
       " 'ParasiticBombRelayDummy',\n",
       " 'Phoenix',\n",
       " 'Probe',\n",
       " 'Queen',\n",
       " 'Raven',\n",
       " 'Reaper',\n",
       " 'Roach',\n",
       " 'SCV',\n",
       " 'Sentry',\n",
       " 'SiegeTank',\n",
       " 'Stalker',\n",
       " 'SwarmHostMP',\n",
       " 'Tempest',\n",
       " 'Thor',\n",
       " 'Ultralisk',\n",
       " 'VikingFighter',\n",
       " 'Viper',\n",
       " 'VoidRay',\n",
       " 'WarpPrism',\n",
       " 'WidowMine',\n",
       " 'Zealot',\n",
       " 'Zergling'}"
      ]
     },
     "execution_count": 18,
     "metadata": {},
     "output_type": "execute_result"
    }
   ],
   "source": [
    "all_unique_units"
   ]
  },
  {
   "cell_type": "code",
   "execution_count": null,
   "metadata": {},
   "outputs": [],
   "source": []
  },
  {
   "cell_type": "code",
   "execution_count": null,
   "metadata": {},
   "outputs": [],
   "source": []
  },
  {
   "cell_type": "code",
   "execution_count": null,
   "metadata": {},
   "outputs": [],
   "source": []
  }
 ],
 "metadata": {
  "kernelspec": {
   "display_name": "ml",
   "language": "python",
   "name": "python3"
  },
  "language_info": {
   "codemirror_mode": {
    "name": "ipython",
    "version": 3
   },
   "file_extension": ".py",
   "mimetype": "text/x-python",
   "name": "python",
   "nbconvert_exporter": "python",
   "pygments_lexer": "ipython3",
   "version": "3.10.13"
  }
 },
 "nbformat": 4,
 "nbformat_minor": 2
}
